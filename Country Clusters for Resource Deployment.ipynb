{
 "cells": [
  {
   "cell_type": "code",
   "execution_count": 1,
   "metadata": {},
   "outputs": [],
   "source": [
    "#import all the necessary libraries\n",
    "\n",
    "import pandas as pd\n",
    "import numpy as np\n",
    "import pandas as pd\n",
    "\n",
    "# For Visualisation\n",
    "import matplotlib.pyplot as plt\n",
    "import seaborn as sns\n",
    "%matplotlib inline\n",
    "\n",
    "# To Scale our data\n",
    "from sklearn.preprocessing import scale\n",
    "\n",
    "# To perform KMeans clustering \n",
    "from sklearn.cluster import KMeans\n",
    "\n",
    "# To perform Hierarchical clustering\n",
    "from scipy.cluster.hierarchy import linkage\n",
    "from scipy.cluster.hierarchy import dendrogram\n",
    "from scipy.cluster.hierarchy import cut_tree\n",
    "\n",
    "# Supress Warnings\n",
    "\n",
    "import warnings\n",
    "warnings.filterwarnings('ignore')"
   ]
  },
  {
   "cell_type": "code",
   "execution_count": 2,
   "metadata": {},
   "outputs": [
    {
     "data": {
      "text/html": [
       "<div>\n",
       "<style scoped>\n",
       "    .dataframe tbody tr th:only-of-type {\n",
       "        vertical-align: middle;\n",
       "    }\n",
       "\n",
       "    .dataframe tbody tr th {\n",
       "        vertical-align: top;\n",
       "    }\n",
       "\n",
       "    .dataframe thead th {\n",
       "        text-align: right;\n",
       "    }\n",
       "</style>\n",
       "<table border=\"1\" class=\"dataframe\">\n",
       "  <thead>\n",
       "    <tr style=\"text-align: right;\">\n",
       "      <th></th>\n",
       "      <th>country</th>\n",
       "      <th>child_mort</th>\n",
       "      <th>exports</th>\n",
       "      <th>health</th>\n",
       "      <th>imports</th>\n",
       "      <th>income</th>\n",
       "      <th>inflation</th>\n",
       "      <th>life_expec</th>\n",
       "      <th>total_fer</th>\n",
       "      <th>gdpp</th>\n",
       "    </tr>\n",
       "  </thead>\n",
       "  <tbody>\n",
       "    <tr>\n",
       "      <th>0</th>\n",
       "      <td>Afghanistan</td>\n",
       "      <td>90.2</td>\n",
       "      <td>10.0</td>\n",
       "      <td>7.58</td>\n",
       "      <td>44.9</td>\n",
       "      <td>1610</td>\n",
       "      <td>9.44</td>\n",
       "      <td>56.2</td>\n",
       "      <td>5.82</td>\n",
       "      <td>553</td>\n",
       "    </tr>\n",
       "    <tr>\n",
       "      <th>1</th>\n",
       "      <td>Albania</td>\n",
       "      <td>16.6</td>\n",
       "      <td>28.0</td>\n",
       "      <td>6.55</td>\n",
       "      <td>48.6</td>\n",
       "      <td>9930</td>\n",
       "      <td>4.49</td>\n",
       "      <td>76.3</td>\n",
       "      <td>1.65</td>\n",
       "      <td>4090</td>\n",
       "    </tr>\n",
       "    <tr>\n",
       "      <th>2</th>\n",
       "      <td>Algeria</td>\n",
       "      <td>27.3</td>\n",
       "      <td>38.4</td>\n",
       "      <td>4.17</td>\n",
       "      <td>31.4</td>\n",
       "      <td>12900</td>\n",
       "      <td>16.10</td>\n",
       "      <td>76.5</td>\n",
       "      <td>2.89</td>\n",
       "      <td>4460</td>\n",
       "    </tr>\n",
       "    <tr>\n",
       "      <th>3</th>\n",
       "      <td>Angola</td>\n",
       "      <td>119.0</td>\n",
       "      <td>62.3</td>\n",
       "      <td>2.85</td>\n",
       "      <td>42.9</td>\n",
       "      <td>5900</td>\n",
       "      <td>22.40</td>\n",
       "      <td>60.1</td>\n",
       "      <td>6.16</td>\n",
       "      <td>3530</td>\n",
       "    </tr>\n",
       "    <tr>\n",
       "      <th>4</th>\n",
       "      <td>Antigua and Barbuda</td>\n",
       "      <td>10.3</td>\n",
       "      <td>45.5</td>\n",
       "      <td>6.03</td>\n",
       "      <td>58.9</td>\n",
       "      <td>19100</td>\n",
       "      <td>1.44</td>\n",
       "      <td>76.8</td>\n",
       "      <td>2.13</td>\n",
       "      <td>12200</td>\n",
       "    </tr>\n",
       "  </tbody>\n",
       "</table>\n",
       "</div>"
      ],
      "text/plain": [
       "               country  child_mort  exports  health  imports  income  \\\n",
       "0          Afghanistan        90.2     10.0    7.58     44.9    1610   \n",
       "1              Albania        16.6     28.0    6.55     48.6    9930   \n",
       "2              Algeria        27.3     38.4    4.17     31.4   12900   \n",
       "3               Angola       119.0     62.3    2.85     42.9    5900   \n",
       "4  Antigua and Barbuda        10.3     45.5    6.03     58.9   19100   \n",
       "\n",
       "   inflation  life_expec  total_fer   gdpp  \n",
       "0       9.44        56.2       5.82    553  \n",
       "1       4.49        76.3       1.65   4090  \n",
       "2      16.10        76.5       2.89   4460  \n",
       "3      22.40        60.1       6.16   3530  \n",
       "4       1.44        76.8       2.13  12200  "
      ]
     },
     "execution_count": 2,
     "metadata": {},
     "output_type": "execute_result"
    }
   ],
   "source": [
    "#Let's read the dataset first\n",
    "dat = pd.read_csv(\"Country-data.csv\")\n",
    "dat.head()"
   ]
  },
  {
   "cell_type": "code",
   "execution_count": 3,
   "metadata": {},
   "outputs": [
    {
     "data": {
      "text/plain": [
       "(167, 10)"
      ]
     },
     "execution_count": 3,
     "metadata": {},
     "output_type": "execute_result"
    }
   ],
   "source": [
    "#Checking the number of rows and columns\n",
    "dat.shape"
   ]
  },
  {
   "cell_type": "code",
   "execution_count": 4,
   "metadata": {},
   "outputs": [
    {
     "name": "stdout",
     "output_type": "stream",
     "text": [
      "<class 'pandas.core.frame.DataFrame'>\n",
      "RangeIndex: 167 entries, 0 to 166\n",
      "Data columns (total 10 columns):\n",
      "country       167 non-null object\n",
      "child_mort    167 non-null float64\n",
      "exports       167 non-null float64\n",
      "health        167 non-null float64\n",
      "imports       167 non-null float64\n",
      "income        167 non-null int64\n",
      "inflation     167 non-null float64\n",
      "life_expec    167 non-null float64\n",
      "total_fer     167 non-null float64\n",
      "gdpp          167 non-null int64\n",
      "dtypes: float64(7), int64(2), object(1)\n",
      "memory usage: 13.1+ KB\n"
     ]
    }
   ],
   "source": [
    "#Checking the details of each column of the dataset\n",
    "dat.info()"
   ]
  },
  {
   "cell_type": "code",
   "execution_count": 5,
   "metadata": {},
   "outputs": [
    {
     "data": {
      "text/html": [
       "<div>\n",
       "<style scoped>\n",
       "    .dataframe tbody tr th:only-of-type {\n",
       "        vertical-align: middle;\n",
       "    }\n",
       "\n",
       "    .dataframe tbody tr th {\n",
       "        vertical-align: top;\n",
       "    }\n",
       "\n",
       "    .dataframe thead th {\n",
       "        text-align: right;\n",
       "    }\n",
       "</style>\n",
       "<table border=\"1\" class=\"dataframe\">\n",
       "  <thead>\n",
       "    <tr style=\"text-align: right;\">\n",
       "      <th></th>\n",
       "      <th>country</th>\n",
       "      <th>child_mort</th>\n",
       "      <th>exports</th>\n",
       "      <th>health</th>\n",
       "      <th>imports</th>\n",
       "      <th>income</th>\n",
       "      <th>inflation</th>\n",
       "      <th>life_expec</th>\n",
       "      <th>total_fer</th>\n",
       "      <th>gdpp</th>\n",
       "    </tr>\n",
       "  </thead>\n",
       "  <tbody>\n",
       "    <tr>\n",
       "      <th>0</th>\n",
       "      <td>Afghanistan</td>\n",
       "      <td>90.2</td>\n",
       "      <td>55.30</td>\n",
       "      <td>41.9174</td>\n",
       "      <td>248.297</td>\n",
       "      <td>1610</td>\n",
       "      <td>9.44</td>\n",
       "      <td>56.2</td>\n",
       "      <td>5.82</td>\n",
       "      <td>553</td>\n",
       "    </tr>\n",
       "    <tr>\n",
       "      <th>1</th>\n",
       "      <td>Albania</td>\n",
       "      <td>16.6</td>\n",
       "      <td>1145.20</td>\n",
       "      <td>267.8950</td>\n",
       "      <td>1987.740</td>\n",
       "      <td>9930</td>\n",
       "      <td>4.49</td>\n",
       "      <td>76.3</td>\n",
       "      <td>1.65</td>\n",
       "      <td>4090</td>\n",
       "    </tr>\n",
       "    <tr>\n",
       "      <th>2</th>\n",
       "      <td>Algeria</td>\n",
       "      <td>27.3</td>\n",
       "      <td>1712.64</td>\n",
       "      <td>185.9820</td>\n",
       "      <td>1400.440</td>\n",
       "      <td>12900</td>\n",
       "      <td>16.10</td>\n",
       "      <td>76.5</td>\n",
       "      <td>2.89</td>\n",
       "      <td>4460</td>\n",
       "    </tr>\n",
       "    <tr>\n",
       "      <th>3</th>\n",
       "      <td>Angola</td>\n",
       "      <td>119.0</td>\n",
       "      <td>2199.19</td>\n",
       "      <td>100.6050</td>\n",
       "      <td>1514.370</td>\n",
       "      <td>5900</td>\n",
       "      <td>22.40</td>\n",
       "      <td>60.1</td>\n",
       "      <td>6.16</td>\n",
       "      <td>3530</td>\n",
       "    </tr>\n",
       "    <tr>\n",
       "      <th>4</th>\n",
       "      <td>Antigua and Barbuda</td>\n",
       "      <td>10.3</td>\n",
       "      <td>5551.00</td>\n",
       "      <td>735.6600</td>\n",
       "      <td>7185.800</td>\n",
       "      <td>19100</td>\n",
       "      <td>1.44</td>\n",
       "      <td>76.8</td>\n",
       "      <td>2.13</td>\n",
       "      <td>12200</td>\n",
       "    </tr>\n",
       "  </tbody>\n",
       "</table>\n",
       "</div>"
      ],
      "text/plain": [
       "               country  child_mort  exports    health   imports  income  \\\n",
       "0          Afghanistan        90.2    55.30   41.9174   248.297    1610   \n",
       "1              Albania        16.6  1145.20  267.8950  1987.740    9930   \n",
       "2              Algeria        27.3  1712.64  185.9820  1400.440   12900   \n",
       "3               Angola       119.0  2199.19  100.6050  1514.370    5900   \n",
       "4  Antigua and Barbuda        10.3  5551.00  735.6600  7185.800   19100   \n",
       "\n",
       "   inflation  life_expec  total_fer   gdpp  \n",
       "0       9.44        56.2       5.82    553  \n",
       "1       4.49        76.3       1.65   4090  \n",
       "2      16.10        76.5       2.89   4460  \n",
       "3      22.40        60.1       6.16   3530  \n",
       "4       1.44        76.8       2.13  12200  "
      ]
     },
     "execution_count": 5,
     "metadata": {},
     "output_type": "execute_result"
    }
   ],
   "source": [
    "#Adjusting % columns to absolute values\n",
    "dat['health']=dat['health']*dat['gdpp'] /100\n",
    "dat['exports']=dat['exports']*dat['gdpp'] /100\n",
    "dat['imports']=dat['imports']*dat['gdpp'] /100\n",
    "dat.head()"
   ]
  },
  {
   "cell_type": "code",
   "execution_count": 6,
   "metadata": {
    "scrolled": true
   },
   "outputs": [
    {
     "data": {
      "text/html": [
       "<div>\n",
       "<style scoped>\n",
       "    .dataframe tbody tr th:only-of-type {\n",
       "        vertical-align: middle;\n",
       "    }\n",
       "\n",
       "    .dataframe tbody tr th {\n",
       "        vertical-align: top;\n",
       "    }\n",
       "\n",
       "    .dataframe thead th {\n",
       "        text-align: right;\n",
       "    }\n",
       "</style>\n",
       "<table border=\"1\" class=\"dataframe\">\n",
       "  <thead>\n",
       "    <tr style=\"text-align: right;\">\n",
       "      <th></th>\n",
       "      <th>child_mort</th>\n",
       "      <th>exports</th>\n",
       "      <th>health</th>\n",
       "      <th>imports</th>\n",
       "      <th>income</th>\n",
       "      <th>inflation</th>\n",
       "      <th>life_expec</th>\n",
       "      <th>total_fer</th>\n",
       "      <th>gdpp</th>\n",
       "    </tr>\n",
       "  </thead>\n",
       "  <tbody>\n",
       "    <tr>\n",
       "      <th>count</th>\n",
       "      <td>167.000000</td>\n",
       "      <td>167.000000</td>\n",
       "      <td>167.000000</td>\n",
       "      <td>167.000000</td>\n",
       "      <td>167.000000</td>\n",
       "      <td>167.000000</td>\n",
       "      <td>167.000000</td>\n",
       "      <td>167.000000</td>\n",
       "      <td>167.000000</td>\n",
       "    </tr>\n",
       "    <tr>\n",
       "      <th>mean</th>\n",
       "      <td>38.270060</td>\n",
       "      <td>7420.618847</td>\n",
       "      <td>1056.733204</td>\n",
       "      <td>6588.352108</td>\n",
       "      <td>17144.688623</td>\n",
       "      <td>7.781832</td>\n",
       "      <td>70.555689</td>\n",
       "      <td>2.947964</td>\n",
       "      <td>12964.155689</td>\n",
       "    </tr>\n",
       "    <tr>\n",
       "      <th>std</th>\n",
       "      <td>40.328931</td>\n",
       "      <td>17973.885795</td>\n",
       "      <td>1801.408906</td>\n",
       "      <td>14710.810418</td>\n",
       "      <td>19278.067698</td>\n",
       "      <td>10.570704</td>\n",
       "      <td>8.893172</td>\n",
       "      <td>1.513848</td>\n",
       "      <td>18328.704809</td>\n",
       "    </tr>\n",
       "    <tr>\n",
       "      <th>min</th>\n",
       "      <td>2.600000</td>\n",
       "      <td>1.076920</td>\n",
       "      <td>12.821200</td>\n",
       "      <td>0.651092</td>\n",
       "      <td>609.000000</td>\n",
       "      <td>-4.210000</td>\n",
       "      <td>32.100000</td>\n",
       "      <td>1.150000</td>\n",
       "      <td>231.000000</td>\n",
       "    </tr>\n",
       "    <tr>\n",
       "      <th>25%</th>\n",
       "      <td>8.250000</td>\n",
       "      <td>447.140000</td>\n",
       "      <td>78.535500</td>\n",
       "      <td>640.215000</td>\n",
       "      <td>3355.000000</td>\n",
       "      <td>1.810000</td>\n",
       "      <td>65.300000</td>\n",
       "      <td>1.795000</td>\n",
       "      <td>1330.000000</td>\n",
       "    </tr>\n",
       "    <tr>\n",
       "      <th>50%</th>\n",
       "      <td>19.300000</td>\n",
       "      <td>1777.440000</td>\n",
       "      <td>321.886000</td>\n",
       "      <td>2045.580000</td>\n",
       "      <td>9960.000000</td>\n",
       "      <td>5.390000</td>\n",
       "      <td>73.100000</td>\n",
       "      <td>2.410000</td>\n",
       "      <td>4660.000000</td>\n",
       "    </tr>\n",
       "    <tr>\n",
       "      <th>75%</th>\n",
       "      <td>62.100000</td>\n",
       "      <td>7278.000000</td>\n",
       "      <td>976.940000</td>\n",
       "      <td>7719.600000</td>\n",
       "      <td>22800.000000</td>\n",
       "      <td>10.750000</td>\n",
       "      <td>76.800000</td>\n",
       "      <td>3.880000</td>\n",
       "      <td>14050.000000</td>\n",
       "    </tr>\n",
       "    <tr>\n",
       "      <th>max</th>\n",
       "      <td>208.000000</td>\n",
       "      <td>183750.000000</td>\n",
       "      <td>8663.600000</td>\n",
       "      <td>149100.000000</td>\n",
       "      <td>125000.000000</td>\n",
       "      <td>104.000000</td>\n",
       "      <td>82.800000</td>\n",
       "      <td>7.490000</td>\n",
       "      <td>105000.000000</td>\n",
       "    </tr>\n",
       "  </tbody>\n",
       "</table>\n",
       "</div>"
      ],
      "text/plain": [
       "       child_mort        exports       health        imports         income  \\\n",
       "count  167.000000     167.000000   167.000000     167.000000     167.000000   \n",
       "mean    38.270060    7420.618847  1056.733204    6588.352108   17144.688623   \n",
       "std     40.328931   17973.885795  1801.408906   14710.810418   19278.067698   \n",
       "min      2.600000       1.076920    12.821200       0.651092     609.000000   \n",
       "25%      8.250000     447.140000    78.535500     640.215000    3355.000000   \n",
       "50%     19.300000    1777.440000   321.886000    2045.580000    9960.000000   \n",
       "75%     62.100000    7278.000000   976.940000    7719.600000   22800.000000   \n",
       "max    208.000000  183750.000000  8663.600000  149100.000000  125000.000000   \n",
       "\n",
       "        inflation  life_expec   total_fer           gdpp  \n",
       "count  167.000000  167.000000  167.000000     167.000000  \n",
       "mean     7.781832   70.555689    2.947964   12964.155689  \n",
       "std     10.570704    8.893172    1.513848   18328.704809  \n",
       "min     -4.210000   32.100000    1.150000     231.000000  \n",
       "25%      1.810000   65.300000    1.795000    1330.000000  \n",
       "50%      5.390000   73.100000    2.410000    4660.000000  \n",
       "75%     10.750000   76.800000    3.880000   14050.000000  \n",
       "max    104.000000   82.800000    7.490000  105000.000000  "
      ]
     },
     "execution_count": 6,
     "metadata": {},
     "output_type": "execute_result"
    }
   ],
   "source": [
    "#Checking the min, max, mean, sd of every numerical variable\n",
    "dat.describe()"
   ]
  },
  {
   "cell_type": "code",
   "execution_count": 7,
   "metadata": {},
   "outputs": [
    {
     "data": {
      "text/plain": [
       "country       0\n",
       "child_mort    0\n",
       "exports       0\n",
       "health        0\n",
       "imports       0\n",
       "income        0\n",
       "inflation     0\n",
       "life_expec    0\n",
       "total_fer     0\n",
       "gdpp          0\n",
       "dtype: int64"
      ]
     },
     "execution_count": 7,
     "metadata": {},
     "output_type": "execute_result"
    }
   ],
   "source": [
    "#Checking the Null Value\n",
    "\n",
    "dat.isna().sum()"
   ]
  },
  {
   "cell_type": "code",
   "execution_count": 8,
   "metadata": {},
   "outputs": [
    {
     "data": {
      "text/html": [
       "<div>\n",
       "<style scoped>\n",
       "    .dataframe tbody tr th:only-of-type {\n",
       "        vertical-align: middle;\n",
       "    }\n",
       "\n",
       "    .dataframe tbody tr th {\n",
       "        vertical-align: top;\n",
       "    }\n",
       "\n",
       "    .dataframe thead th {\n",
       "        text-align: right;\n",
       "    }\n",
       "</style>\n",
       "<table border=\"1\" class=\"dataframe\">\n",
       "  <thead>\n",
       "    <tr style=\"text-align: right;\">\n",
       "      <th></th>\n",
       "      <th>country</th>\n",
       "      <th>child_mort</th>\n",
       "      <th>exports</th>\n",
       "      <th>health</th>\n",
       "      <th>imports</th>\n",
       "      <th>income</th>\n",
       "      <th>inflation</th>\n",
       "      <th>life_expec</th>\n",
       "      <th>total_fer</th>\n",
       "      <th>gdpp</th>\n",
       "    </tr>\n",
       "  </thead>\n",
       "  <tbody>\n",
       "    <tr>\n",
       "      <th>0</th>\n",
       "      <td>Afghanistan</td>\n",
       "      <td>90.2</td>\n",
       "      <td>55.30</td>\n",
       "      <td>41.9174</td>\n",
       "      <td>248.297</td>\n",
       "      <td>1610</td>\n",
       "      <td>9.44</td>\n",
       "      <td>56.2</td>\n",
       "      <td>5.82</td>\n",
       "      <td>553</td>\n",
       "    </tr>\n",
       "    <tr>\n",
       "      <th>1</th>\n",
       "      <td>Albania</td>\n",
       "      <td>16.6</td>\n",
       "      <td>1145.20</td>\n",
       "      <td>267.8950</td>\n",
       "      <td>1987.740</td>\n",
       "      <td>9930</td>\n",
       "      <td>4.49</td>\n",
       "      <td>76.3</td>\n",
       "      <td>1.65</td>\n",
       "      <td>4090</td>\n",
       "    </tr>\n",
       "    <tr>\n",
       "      <th>2</th>\n",
       "      <td>Algeria</td>\n",
       "      <td>27.3</td>\n",
       "      <td>1712.64</td>\n",
       "      <td>185.9820</td>\n",
       "      <td>1400.440</td>\n",
       "      <td>12900</td>\n",
       "      <td>16.10</td>\n",
       "      <td>76.5</td>\n",
       "      <td>2.89</td>\n",
       "      <td>4460</td>\n",
       "    </tr>\n",
       "    <tr>\n",
       "      <th>3</th>\n",
       "      <td>Angola</td>\n",
       "      <td>119.0</td>\n",
       "      <td>2199.19</td>\n",
       "      <td>100.6050</td>\n",
       "      <td>1514.370</td>\n",
       "      <td>5900</td>\n",
       "      <td>22.40</td>\n",
       "      <td>60.1</td>\n",
       "      <td>6.16</td>\n",
       "      <td>3530</td>\n",
       "    </tr>\n",
       "    <tr>\n",
       "      <th>4</th>\n",
       "      <td>Antigua and Barbuda</td>\n",
       "      <td>10.3</td>\n",
       "      <td>5551.00</td>\n",
       "      <td>735.6600</td>\n",
       "      <td>7185.800</td>\n",
       "      <td>19100</td>\n",
       "      <td>1.44</td>\n",
       "      <td>76.8</td>\n",
       "      <td>2.13</td>\n",
       "      <td>12200</td>\n",
       "    </tr>\n",
       "  </tbody>\n",
       "</table>\n",
       "</div>"
      ],
      "text/plain": [
       "               country  child_mort  exports    health   imports  income  \\\n",
       "0          Afghanistan        90.2    55.30   41.9174   248.297    1610   \n",
       "1              Albania        16.6  1145.20  267.8950  1987.740    9930   \n",
       "2              Algeria        27.3  1712.64  185.9820  1400.440   12900   \n",
       "3               Angola       119.0  2199.19  100.6050  1514.370    5900   \n",
       "4  Antigua and Barbuda        10.3  5551.00  735.6600  7185.800   19100   \n",
       "\n",
       "   inflation  life_expec  total_fer   gdpp  \n",
       "0       9.44        56.2       5.82    553  \n",
       "1       4.49        76.3       1.65   4090  \n",
       "2      16.10        76.5       2.89   4460  \n",
       "3      22.40        60.1       6.16   3530  \n",
       "4       1.44        76.8       2.13  12200  "
      ]
     },
     "execution_count": 8,
     "metadata": {},
     "output_type": "execute_result"
    }
   ],
   "source": [
    "#Fetching top 5 rows from the dataset\n",
    "dat.head()"
   ]
  },
  {
   "cell_type": "code",
   "execution_count": 9,
   "metadata": {},
   "outputs": [
    {
     "data": {
      "text/plain": [
       "{'whiskers': [<matplotlib.lines.Line2D at 0xc9db320>,\n",
       "  <matplotlib.lines.Line2D at 0xc9db668>],\n",
       " 'caps': [<matplotlib.lines.Line2D at 0xc9db9b0>,\n",
       "  <matplotlib.lines.Line2D at 0xc9dbcf8>],\n",
       " 'boxes': [<matplotlib.lines.Line2D at 0xc6caf98>],\n",
       " 'medians': [<matplotlib.lines.Line2D at 0xc9dbdd8>],\n",
       " 'fliers': [<matplotlib.lines.Line2D at 0xc9ea3c8>],\n",
       " 'means': []}"
      ]
     },
     "execution_count": 9,
     "metadata": {},
     "output_type": "execute_result"
    },
    {
     "data": {
      "image/png": "[encoded data removed]",
      "text/plain": [
       "<Figure size 432x288 with 1 Axes>"
      ]
     },
     "metadata": {
      "needs_background": "light"
     },
     "output_type": "display_data"
    }
   ],
   "source": [
    "#Checking the distribution of \"Child_mort\" rate\n",
    "plt.boxplot(dat.child_mort)"
   ]
  },
  {
   "cell_type": "markdown",
   "metadata": {},
   "source": [
    "Some countries could have very high mortality rate and that's totally fine. No action required."
   ]
  },
  {
   "cell_type": "code",
   "execution_count": 10,
   "metadata": {},
   "outputs": [
    {
     "data": {
      "text/plain": [
       "{'whiskers': [<matplotlib.lines.Line2D at 0xcc7ab38>,\n",
       "  <matplotlib.lines.Line2D at 0xcc7ae80>],\n",
       " 'caps': [<matplotlib.lines.Line2D at 0xcc7af60>,\n",
       "  <matplotlib.lines.Line2D at 0xce93550>],\n",
       " 'boxes': [<matplotlib.lines.Line2D at 0xcc7a748>],\n",
       " 'medians': [<matplotlib.lines.Line2D at 0xce93898>],\n",
       " 'fliers': [<matplotlib.lines.Line2D at 0xce93be0>],\n",
       " 'means': []}"
      ]
     },
     "execution_count": 10,
     "metadata": {},
     "output_type": "execute_result"
    },
    {
     "data": {
      "image/png": "[encoded data removed]",
      "text/plain": [
       "<Figure size 432x288 with 1 Axes>"
      ]
     },
     "metadata": {
      "needs_background": "light"
     },
     "output_type": "display_data"
    }
   ],
   "source": [
    "#Checking the distribution of \"exports\" data\n",
    "plt.boxplot(dat.exports)"
   ]
  },
  {
   "cell_type": "markdown",
   "metadata": {},
   "source": [
    "The export could be much higher for some of the countries so no outlier treatment is required."
   ]
  },
  {
   "cell_type": "code",
   "execution_count": 11,
   "metadata": {},
   "outputs": [
    {
     "data": {
      "text/plain": [
       "{'whiskers': [<matplotlib.lines.Line2D at 0xd305390>,\n",
       "  <matplotlib.lines.Line2D at 0xd3056d8>],\n",
       " 'caps': [<matplotlib.lines.Line2D at 0xd305a20>,\n",
       "  <matplotlib.lines.Line2D at 0xd305d68>],\n",
       " 'boxes': [<matplotlib.lines.Line2D at 0xd2fbf60>],\n",
       " 'medians': [<matplotlib.lines.Line2D at 0xd305e48>],\n",
       " 'fliers': [<matplotlib.lines.Line2D at 0xd30b438>],\n",
       " 'means': []}"
      ]
     },
     "execution_count": 11,
     "metadata": {},
     "output_type": "execute_result"
    },
    {
     "data": {
      "image/png": "[encoded data removed]",
      "text/plain": [
       "<Figure size 432x288 with 1 Axes>"
      ]
     },
     "metadata": {
      "needs_background": "light"
     },
     "output_type": "display_data"
    }
   ],
   "source": [
    "#Checking the distribution of \"health\" data\n",
    "plt.boxplot(dat.health)"
   ]
  },
  {
   "cell_type": "markdown",
   "metadata": {},
   "source": [
    "Some countries have higher segment of gdp allocated to health is totally fine."
   ]
  },
  {
   "cell_type": "code",
   "execution_count": 12,
   "metadata": {},
   "outputs": [
    {
     "data": {
      "text/plain": [
       "{'whiskers': [<matplotlib.lines.Line2D at 0xd358b70>,\n",
       "  <matplotlib.lines.Line2D at 0xd358eb8>],\n",
       " 'caps': [<matplotlib.lines.Line2D at 0xd358f98>,\n",
       "  <matplotlib.lines.Line2D at 0xd364588>],\n",
       " 'boxes': [<matplotlib.lines.Line2D at 0xd358780>],\n",
       " 'medians': [<matplotlib.lines.Line2D at 0xd3648d0>],\n",
       " 'fliers': [<matplotlib.lines.Line2D at 0xd364c18>],\n",
       " 'means': []}"
      ]
     },
     "execution_count": 12,
     "metadata": {},
     "output_type": "execute_result"
    },
    {
     "data": {
      "image/png": "[encoded data removed]",
      "text/plain": [
       "<Figure size 432x288 with 1 Axes>"
      ]
     },
     "metadata": {
      "needs_background": "light"
     },
     "output_type": "display_data"
    }
   ],
   "source": [
    "#Checking the distribution of \"import\" data\n",
    "plt.boxplot(dat.imports)"
   ]
  },
  {
   "cell_type": "markdown",
   "metadata": {},
   "source": [
    "The import could be much higher for some of the countries so no outlier treatment is required."
   ]
  },
  {
   "cell_type": "code",
   "execution_count": 13,
   "metadata": {},
   "outputs": [
    {
     "data": {
      "text/plain": [
       "{'whiskers': [<matplotlib.lines.Line2D at 0xd3b5eb8>,\n",
       "  <matplotlib.lines.Line2D at 0xd3be4e0>],\n",
       " 'caps': [<matplotlib.lines.Line2D at 0xd3be828>,\n",
       "  <matplotlib.lines.Line2D at 0xd3beb70>],\n",
       " 'boxes': [<matplotlib.lines.Line2D at 0xd3b5d68>],\n",
       " 'medians': [<matplotlib.lines.Line2D at 0xd3beeb8>],\n",
       " 'fliers': [<matplotlib.lines.Line2D at 0xd3c9240>],\n",
       " 'means': []}"
      ]
     },
     "execution_count": 13,
     "metadata": {},
     "output_type": "execute_result"
    },
    {
     "data": {
      "image/png": "[encoded data removed]",
      "text/plain": [
       "<Figure size 432x288 with 1 Axes>"
      ]
     },
     "metadata": {
      "needs_background": "light"
     },
     "output_type": "display_data"
    }
   ],
   "source": [
    "#Checking the distribution of \"income\" data\n",
    "plt.boxplot(dat.income)"
   ]
  },
  {
   "cell_type": "markdown",
   "metadata": {},
   "source": [
    "There are many countries for which the income is shown remarkably high and it could be either that per capita income is very very highor another reason could be the presence of different currency rate. However, the same can't be figured out with the\n",
    "information given in the current data set. Hence, no outlier treatment is required here. Infact all these high net income countires might fall in one cluster."
   ]
  },
  {
   "cell_type": "code",
   "execution_count": 14,
   "metadata": {},
   "outputs": [
    {
     "data": {
      "text/plain": [
       "{'whiskers': [<matplotlib.lines.Line2D at 0xd411d68>,\n",
       "  <matplotlib.lines.Line2D at 0xd41c390>],\n",
       " 'caps': [<matplotlib.lines.Line2D at 0xd41c6d8>,\n",
       "  <matplotlib.lines.Line2D at 0xd41ca20>],\n",
       " 'boxes': [<matplotlib.lines.Line2D at 0xd411c18>],\n",
       " 'medians': [<matplotlib.lines.Line2D at 0xd41cd68>],\n",
       " 'fliers': [<matplotlib.lines.Line2D at 0xd41ce48>],\n",
       " 'means': []}"
      ]
     },
     "execution_count": 14,
     "metadata": {},
     "output_type": "execute_result"
    },
    {
     "data": {
      "image/png": "[encoded data removed]",
      "text/plain": [
       "<Figure size 432x288 with 1 Axes>"
      ]
     },
     "metadata": {
      "needs_background": "light"
     },
     "output_type": "display_data"
    }
   ],
   "source": [
    "#Checking the distribution of \"inflation\" data\n",
    "plt.boxplot(dat.inflation)"
   ]
  },
  {
   "cell_type": "markdown",
   "metadata": {},
   "source": [
    "countries with higher inflation(%) is acceptable value. Some of the South American countries are best examples to support that \n",
    "point. Venezuela is currently having more than 400% inflation."
   ]
  },
  {
   "cell_type": "code",
   "execution_count": 15,
   "metadata": {},
   "outputs": [
    {
     "data": {
      "text/plain": [
       "{'whiskers': [<matplotlib.lines.Line2D at 0xd46dac8>,\n",
       "  <matplotlib.lines.Line2D at 0xd46de10>],\n",
       " 'caps': [<matplotlib.lines.Line2D at 0xd46def0>,\n",
       "  <matplotlib.lines.Line2D at 0xd4794e0>],\n",
       " 'boxes': [<matplotlib.lines.Line2D at 0xd46d6d8>],\n",
       " 'medians': [<matplotlib.lines.Line2D at 0xd479828>],\n",
       " 'fliers': [<matplotlib.lines.Line2D at 0xd479b70>],\n",
       " 'means': []}"
      ]
     },
     "execution_count": 15,
     "metadata": {},
     "output_type": "execute_result"
    },
    {
     "data": {
      "image/png": "[encoded data removed]",
      "text/plain": [
       "<Figure size 432x288 with 1 Axes>"
      ]
     },
     "metadata": {
      "needs_background": "light"
     },
     "output_type": "display_data"
    }
   ],
   "source": [
    "#Checking the distribution of \"life expectancy\" data\n",
    "plt.boxplot(dat.life_expec)"
   ]
  },
  {
   "cell_type": "markdown",
   "metadata": {},
   "source": [
    "As seen in the boxplot above, life expectancy of value less than 40-45 is a valid figure, hence, can't be removed from the dataset"
   ]
  },
  {
   "cell_type": "code",
   "execution_count": 16,
   "metadata": {},
   "outputs": [
    {
     "data": {
      "text/plain": [
       "{'whiskers': [<matplotlib.lines.Line2D at 0xd4cc588>,\n",
       "  <matplotlib.lines.Line2D at 0xd4cc8d0>],\n",
       " 'caps': [<matplotlib.lines.Line2D at 0xd4ccc18>,\n",
       "  <matplotlib.lines.Line2D at 0xd4ccf60>],\n",
       " 'boxes': [<matplotlib.lines.Line2D at 0xd4cc198>],\n",
       " 'medians': [<matplotlib.lines.Line2D at 0xd4d62e8>],\n",
       " 'fliers': [<matplotlib.lines.Line2D at 0xd4d6630>],\n",
       " 'means': []}"
      ]
     },
     "execution_count": 16,
     "metadata": {},
     "output_type": "execute_result"
    },
    {
     "data": {
      "image/png": "[encoded data removed]",
      "text/plain": [
       "<Figure size 432x288 with 1 Axes>"
      ]
     },
     "metadata": {
      "needs_background": "light"
     },
     "output_type": "display_data"
    }
   ],
   "source": [
    "#Checking the distribution of \"total_fer\" data\n",
    "plt.boxplot(dat.total_fer)"
   ]
  },
  {
   "cell_type": "markdown",
   "metadata": {},
   "source": [
    "Some of the values in total_fer is more than 95% percentile but a valid value which can't be removed."
   ]
  },
  {
   "cell_type": "code",
   "execution_count": 17,
   "metadata": {
    "scrolled": true
   },
   "outputs": [
    {
     "data": {
      "text/plain": [
       "{'whiskers': [<matplotlib.lines.Line2D at 0xd52a358>,\n",
       "  <matplotlib.lines.Line2D at 0xd52a6a0>],\n",
       " 'caps': [<matplotlib.lines.Line2D at 0xd52a9e8>,\n",
       "  <matplotlib.lines.Line2D at 0xd52ad30>],\n",
       " 'boxes': [<matplotlib.lines.Line2D at 0xd520f28>],\n",
       " 'medians': [<matplotlib.lines.Line2D at 0xd52ae10>],\n",
       " 'fliers': [<matplotlib.lines.Line2D at 0xd534400>],\n",
       " 'means': []}"
      ]
     },
     "execution_count": 17,
     "metadata": {},
     "output_type": "execute_result"
    },
    {
     "data": {
      "image/png": "[encoded data removed]",
      "text/plain": [
       "<Figure size 432x288 with 1 Axes>"
      ]
     },
     "metadata": {
      "needs_background": "light"
     },
     "output_type": "display_data"
    }
   ],
   "source": [
    "#Checking the distribution of \"gdpp\" data\n",
    "plt.boxplot(dat.gdpp)"
   ]
  },
  {
   "cell_type": "markdown",
   "metadata": {},
   "source": [
    "Doubtless that some of the developed countries have GDP per capita very very high due to both the factors of less \n",
    "population and higher countries' GDP. So no outlier treatment is required here."
   ]
  },
  {
   "cell_type": "code",
   "execution_count": 18,
   "metadata": {},
   "outputs": [
    {
     "data": {
      "text/html": [
       "<div>\n",
       "<style scoped>\n",
       "    .dataframe tbody tr th:only-of-type {\n",
       "        vertical-align: middle;\n",
       "    }\n",
       "\n",
       "    .dataframe tbody tr th {\n",
       "        vertical-align: top;\n",
       "    }\n",
       "\n",
       "    .dataframe thead th {\n",
       "        text-align: right;\n",
       "    }\n",
       "</style>\n",
       "<table border=\"1\" class=\"dataframe\">\n",
       "  <thead>\n",
       "    <tr style=\"text-align: right;\">\n",
       "      <th></th>\n",
       "      <th>country</th>\n",
       "      <th>child_mort</th>\n",
       "      <th>exports</th>\n",
       "      <th>health</th>\n",
       "      <th>imports</th>\n",
       "      <th>income</th>\n",
       "      <th>inflation</th>\n",
       "      <th>life_expec</th>\n",
       "      <th>total_fer</th>\n",
       "      <th>gdpp</th>\n",
       "    </tr>\n",
       "  </thead>\n",
       "  <tbody>\n",
       "    <tr>\n",
       "      <th>0</th>\n",
       "      <td>Afghanistan</td>\n",
       "      <td>90.2</td>\n",
       "      <td>55.30</td>\n",
       "      <td>41.9174</td>\n",
       "      <td>248.297</td>\n",
       "      <td>1610</td>\n",
       "      <td>9.44</td>\n",
       "      <td>56.2</td>\n",
       "      <td>5.82</td>\n",
       "      <td>553</td>\n",
       "    </tr>\n",
       "    <tr>\n",
       "      <th>1</th>\n",
       "      <td>Albania</td>\n",
       "      <td>16.6</td>\n",
       "      <td>1145.20</td>\n",
       "      <td>267.8950</td>\n",
       "      <td>1987.740</td>\n",
       "      <td>9930</td>\n",
       "      <td>4.49</td>\n",
       "      <td>76.3</td>\n",
       "      <td>1.65</td>\n",
       "      <td>4090</td>\n",
       "    </tr>\n",
       "    <tr>\n",
       "      <th>2</th>\n",
       "      <td>Algeria</td>\n",
       "      <td>27.3</td>\n",
       "      <td>1712.64</td>\n",
       "      <td>185.9820</td>\n",
       "      <td>1400.440</td>\n",
       "      <td>12900</td>\n",
       "      <td>16.10</td>\n",
       "      <td>76.5</td>\n",
       "      <td>2.89</td>\n",
       "      <td>4460</td>\n",
       "    </tr>\n",
       "    <tr>\n",
       "      <th>3</th>\n",
       "      <td>Angola</td>\n",
       "      <td>119.0</td>\n",
       "      <td>2199.19</td>\n",
       "      <td>100.6050</td>\n",
       "      <td>1514.370</td>\n",
       "      <td>5900</td>\n",
       "      <td>22.40</td>\n",
       "      <td>60.1</td>\n",
       "      <td>6.16</td>\n",
       "      <td>3530</td>\n",
       "    </tr>\n",
       "    <tr>\n",
       "      <th>4</th>\n",
       "      <td>Antigua and Barbuda</td>\n",
       "      <td>10.3</td>\n",
       "      <td>5551.00</td>\n",
       "      <td>735.6600</td>\n",
       "      <td>7185.800</td>\n",
       "      <td>19100</td>\n",
       "      <td>1.44</td>\n",
       "      <td>76.8</td>\n",
       "      <td>2.13</td>\n",
       "      <td>12200</td>\n",
       "    </tr>\n",
       "  </tbody>\n",
       "</table>\n",
       "</div>"
      ],
      "text/plain": [
       "               country  child_mort  exports    health   imports  income  \\\n",
       "0          Afghanistan        90.2    55.30   41.9174   248.297    1610   \n",
       "1              Albania        16.6  1145.20  267.8950  1987.740    9930   \n",
       "2              Algeria        27.3  1712.64  185.9820  1400.440   12900   \n",
       "3               Angola       119.0  2199.19  100.6050  1514.370    5900   \n",
       "4  Antigua and Barbuda        10.3  5551.00  735.6600  7185.800   19100   \n",
       "\n",
       "   inflation  life_expec  total_fer   gdpp  \n",
       "0       9.44        56.2       5.82    553  \n",
       "1       4.49        76.3       1.65   4090  \n",
       "2      16.10        76.5       2.89   4460  \n",
       "3      22.40        60.1       6.16   3530  \n",
       "4       1.44        76.8       2.13  12200  "
      ]
     },
     "execution_count": 18,
     "metadata": {},
     "output_type": "execute_result"
    }
   ],
   "source": [
    "dat.head()"
   ]
  },
  {
   "cell_type": "code",
   "execution_count": 19,
   "metadata": {},
   "outputs": [
    {
     "data": {
      "text/html": [
       "<div>\n",
       "<style scoped>\n",
       "    .dataframe tbody tr th:only-of-type {\n",
       "        vertical-align: middle;\n",
       "    }\n",
       "\n",
       "    .dataframe tbody tr th {\n",
       "        vertical-align: top;\n",
       "    }\n",
       "\n",
       "    .dataframe thead th {\n",
       "        text-align: right;\n",
       "    }\n",
       "</style>\n",
       "<table border=\"1\" class=\"dataframe\">\n",
       "  <thead>\n",
       "    <tr style=\"text-align: right;\">\n",
       "      <th></th>\n",
       "      <th>child_mort</th>\n",
       "      <th>exports</th>\n",
       "      <th>health</th>\n",
       "      <th>imports</th>\n",
       "      <th>income</th>\n",
       "      <th>inflation</th>\n",
       "      <th>life_expec</th>\n",
       "      <th>total_fer</th>\n",
       "      <th>gdpp</th>\n",
       "    </tr>\n",
       "  </thead>\n",
       "  <tbody>\n",
       "    <tr>\n",
       "      <th>0</th>\n",
       "      <td>90.2</td>\n",
       "      <td>55.30</td>\n",
       "      <td>41.9174</td>\n",
       "      <td>248.297</td>\n",
       "      <td>1610</td>\n",
       "      <td>9.44</td>\n",
       "      <td>56.2</td>\n",
       "      <td>5.82</td>\n",
       "      <td>553</td>\n",
       "    </tr>\n",
       "    <tr>\n",
       "      <th>1</th>\n",
       "      <td>16.6</td>\n",
       "      <td>1145.20</td>\n",
       "      <td>267.8950</td>\n",
       "      <td>1987.740</td>\n",
       "      <td>9930</td>\n",
       "      <td>4.49</td>\n",
       "      <td>76.3</td>\n",
       "      <td>1.65</td>\n",
       "      <td>4090</td>\n",
       "    </tr>\n",
       "    <tr>\n",
       "      <th>2</th>\n",
       "      <td>27.3</td>\n",
       "      <td>1712.64</td>\n",
       "      <td>185.9820</td>\n",
       "      <td>1400.440</td>\n",
       "      <td>12900</td>\n",
       "      <td>16.10</td>\n",
       "      <td>76.5</td>\n",
       "      <td>2.89</td>\n",
       "      <td>4460</td>\n",
       "    </tr>\n",
       "    <tr>\n",
       "      <th>3</th>\n",
       "      <td>119.0</td>\n",
       "      <td>2199.19</td>\n",
       "      <td>100.6050</td>\n",
       "      <td>1514.370</td>\n",
       "      <td>5900</td>\n",
       "      <td>22.40</td>\n",
       "      <td>60.1</td>\n",
       "      <td>6.16</td>\n",
       "      <td>3530</td>\n",
       "    </tr>\n",
       "    <tr>\n",
       "      <th>4</th>\n",
       "      <td>10.3</td>\n",
       "      <td>5551.00</td>\n",
       "      <td>735.6600</td>\n",
       "      <td>7185.800</td>\n",
       "      <td>19100</td>\n",
       "      <td>1.44</td>\n",
       "      <td>76.8</td>\n",
       "      <td>2.13</td>\n",
       "      <td>12200</td>\n",
       "    </tr>\n",
       "  </tbody>\n",
       "</table>\n",
       "</div>"
      ],
      "text/plain": [
       "   child_mort  exports    health   imports  income  inflation  life_expec  \\\n",
       "0        90.2    55.30   41.9174   248.297    1610       9.44        56.2   \n",
       "1        16.6  1145.20  267.8950  1987.740    9930       4.49        76.3   \n",
       "2        27.3  1712.64  185.9820  1400.440   12900      16.10        76.5   \n",
       "3       119.0  2199.19  100.6050  1514.370    5900      22.40        60.1   \n",
       "4        10.3  5551.00  735.6600  7185.800   19100       1.44        76.8   \n",
       "\n",
       "   total_fer   gdpp  \n",
       "0       5.82    553  \n",
       "1       1.65   4090  \n",
       "2       2.89   4460  \n",
       "3       6.16   3530  \n",
       "4       2.13  12200  "
      ]
     },
     "execution_count": 19,
     "metadata": {},
     "output_type": "execute_result"
    }
   ],
   "source": [
    "#Dropping the only categorical value\n",
    "dat1 = dat.drop('country',1)\n",
    "dat1.head()"
   ]
  },
  {
   "cell_type": "code",
   "execution_count": 20,
   "metadata": {},
   "outputs": [
    {
     "data": {
      "text/plain": [
       "array([[ 1.29153238, -0.4110113 , -0.56503989, ..., -1.61909203,\n",
       "         1.90288227, -0.67917961],\n",
       "       [-0.5389489 , -0.35019096, -0.43921769, ...,  0.64786643,\n",
       "        -0.85997281, -0.48562324],\n",
       "       [-0.27283273, -0.31852577, -0.48482608, ...,  0.67042323,\n",
       "        -0.0384044 , -0.46537561],\n",
       "       ...,\n",
       "       [-0.37231541, -0.36146329, -0.53848844, ...,  0.28695762,\n",
       "        -0.66120626, -0.63775406],\n",
       "       [ 0.44841668, -0.39216643, -0.55059641, ..., -0.34463279,\n",
       "         1.14094382, -0.63775406],\n",
       "       [ 1.11495062, -0.38395214, -0.54049845, ..., -2.09278484,\n",
       "         1.6246091 , -0.62954556]])"
      ]
     },
     "execution_count": 20,
     "metadata": {},
     "output_type": "execute_result"
    }
   ],
   "source": [
    "#Scale the data using StandardScalar\n",
    "\n",
    "from sklearn.preprocessing import StandardScaler\n",
    "standard_scaler = StandardScaler()\n",
    "dat2 = standard_scaler.fit_transform(dat1)\n",
    "dat2"
   ]
  },
  {
   "cell_type": "code",
   "execution_count": 21,
   "metadata": {},
   "outputs": [],
   "source": [
    "#Importing the PCA module\n",
    "from sklearn.decomposition import PCA\n",
    "pca = PCA(svd_solver='randomized', random_state=42)"
   ]
  },
  {
   "cell_type": "code",
   "execution_count": 22,
   "metadata": {},
   "outputs": [
    {
     "data": {
      "text/plain": [
       "PCA(copy=True, iterated_power='auto', n_components=None, random_state=42,\n",
       "  svd_solver='randomized', tol=0.0, whiten=False)"
      ]
     },
     "execution_count": 22,
     "metadata": {},
     "output_type": "execute_result"
    }
   ],
   "source": [
    "#Performing the PCA\n",
    "pca.fit(dat2)"
   ]
  },
  {
   "cell_type": "code",
   "execution_count": 23,
   "metadata": {},
   "outputs": [
    {
     "data": {
      "text/plain": [
       "array([[-0.31639186,  0.34288671,  0.358535  ,  0.34486492,  0.38004113,\n",
       "        -0.14308531,  0.34385651, -0.30284224,  0.39998795],\n",
       "       [ 0.47626735,  0.39731091,  0.1550529 ,  0.37078075,  0.12838448,\n",
       "         0.22126089, -0.36981973,  0.4597152 ,  0.2006241 ],\n",
       "       [-0.15001225, -0.03057367, -0.07570322, -0.07217386,  0.14576421,\n",
       "         0.94841868,  0.19675173, -0.07783431,  0.01033941],\n",
       "       [-0.14805195,  0.44942527, -0.59971228,  0.46179779, -0.15480592,\n",
       "        -0.00762798, -0.01839465, -0.21392805, -0.36477239],\n",
       "       [ 0.1019948 , -0.03853829, -0.49319984, -0.2527867 ,  0.79407469,\n",
       "        -0.13642345, -0.15404105, -0.02033568,  0.08750149],\n",
       "       [ 0.19658519, -0.03891112,  0.18069888, -0.01217988, -0.03814681,\n",
       "         0.10840284, -0.58600986, -0.75390075,  0.04538167],\n",
       "       [ 0.76126725, -0.01366973, -0.06461567,  0.02718244, -0.02311312,\n",
       "        -0.02207663,  0.58120846, -0.27314534, -0.04402264],\n",
       "       [ 0.00644411, -0.05526371,  0.43007213,  0.1311355 ,  0.3938113 ,\n",
       "        -0.00607016,  0.002966  ,  0.03429334, -0.79902242],\n",
       "       [-0.00495137, -0.71792388, -0.13034593,  0.66568664,  0.07901102,\n",
       "         0.01128137, -0.03159406,  0.02368185,  0.12846398]])"
      ]
     },
     "execution_count": 23,
     "metadata": {},
     "output_type": "execute_result"
    }
   ],
   "source": [
    "#List of PCA components.\n",
    "pca.components_"
   ]
  },
  {
   "cell_type": "code",
   "execution_count": 24,
   "metadata": {},
   "outputs": [
    {
     "name": "stdout",
     "output_type": "stream",
     "text": [
      "pca.explained_variance_ratio_:  [58.9 18.4  9.9  6.1  3.   2.5  0.9  0.2  0. ]\n"
     ]
    }
   ],
   "source": [
    "#Checking the variance ratio in percentage\n",
    "print(\"pca.explained_variance_ratio_: \",pca.explained_variance_ratio_.round(3)*100)"
   ]
  },
  {
   "cell_type": "code",
   "execution_count": 25,
   "metadata": {},
   "outputs": [
    {
     "data": {
      "image/png": "[encoded data removed]",
      "text/plain": [
       "<Figure size 864x576 with 1 Axes>"
      ]
     },
     "metadata": {
      "needs_background": "light"
     },
     "output_type": "display_data"
    }
   ],
   "source": [
    "#Plotting the scree plot\n",
    "\n",
    "%matplotlib inline\n",
    "fig = plt.figure(figsize = (12,8))\n",
    "plt.plot(np.cumsum(pca.explained_variance_ratio_))\n",
    "plt.xlabel('number of components')\n",
    "plt.ylabel('cumulative explained variance')\n",
    "plt.show()"
   ]
  },
  {
   "cell_type": "code",
   "execution_count": 26,
   "metadata": {},
   "outputs": [
    {
     "data": {
      "text/html": [
       "<div>\n",
       "<style scoped>\n",
       "    .dataframe tbody tr th:only-of-type {\n",
       "        vertical-align: middle;\n",
       "    }\n",
       "\n",
       "    .dataframe tbody tr th {\n",
       "        vertical-align: top;\n",
       "    }\n",
       "\n",
       "    .dataframe thead th {\n",
       "        text-align: right;\n",
       "    }\n",
       "</style>\n",
       "<table border=\"1\" class=\"dataframe\">\n",
       "  <thead>\n",
       "    <tr style=\"text-align: right;\">\n",
       "      <th></th>\n",
       "      <th>Feature</th>\n",
       "      <th>PC1</th>\n",
       "      <th>PC2</th>\n",
       "      <th>PC3</th>\n",
       "      <th>PC4</th>\n",
       "      <th>PC5</th>\n",
       "      <th>PC6</th>\n",
       "      <th>PC7</th>\n",
       "      <th>PC8</th>\n",
       "    </tr>\n",
       "  </thead>\n",
       "  <tbody>\n",
       "    <tr>\n",
       "      <th>0</th>\n",
       "      <td>child_mort</td>\n",
       "      <td>-0.316392</td>\n",
       "      <td>0.476267</td>\n",
       "      <td>-0.150012</td>\n",
       "      <td>-0.148052</td>\n",
       "      <td>0.101995</td>\n",
       "      <td>0.196585</td>\n",
       "      <td>0.761267</td>\n",
       "      <td>0.006444</td>\n",
       "    </tr>\n",
       "    <tr>\n",
       "      <th>1</th>\n",
       "      <td>exports</td>\n",
       "      <td>0.342887</td>\n",
       "      <td>0.397311</td>\n",
       "      <td>-0.030574</td>\n",
       "      <td>0.449425</td>\n",
       "      <td>-0.038538</td>\n",
       "      <td>-0.038911</td>\n",
       "      <td>-0.013670</td>\n",
       "      <td>-0.055264</td>\n",
       "    </tr>\n",
       "    <tr>\n",
       "      <th>2</th>\n",
       "      <td>health</td>\n",
       "      <td>0.358535</td>\n",
       "      <td>0.155053</td>\n",
       "      <td>-0.075703</td>\n",
       "      <td>-0.599712</td>\n",
       "      <td>-0.493200</td>\n",
       "      <td>0.180699</td>\n",
       "      <td>-0.064616</td>\n",
       "      <td>0.430072</td>\n",
       "    </tr>\n",
       "    <tr>\n",
       "      <th>3</th>\n",
       "      <td>imports</td>\n",
       "      <td>0.344865</td>\n",
       "      <td>0.370781</td>\n",
       "      <td>-0.072174</td>\n",
       "      <td>0.461798</td>\n",
       "      <td>-0.252787</td>\n",
       "      <td>-0.012180</td>\n",
       "      <td>0.027182</td>\n",
       "      <td>0.131135</td>\n",
       "    </tr>\n",
       "    <tr>\n",
       "      <th>4</th>\n",
       "      <td>income</td>\n",
       "      <td>0.380041</td>\n",
       "      <td>0.128384</td>\n",
       "      <td>0.145764</td>\n",
       "      <td>-0.154806</td>\n",
       "      <td>0.794075</td>\n",
       "      <td>-0.038147</td>\n",
       "      <td>-0.023113</td>\n",
       "      <td>0.393811</td>\n",
       "    </tr>\n",
       "    <tr>\n",
       "      <th>5</th>\n",
       "      <td>inflation</td>\n",
       "      <td>-0.143085</td>\n",
       "      <td>0.221261</td>\n",
       "      <td>0.948419</td>\n",
       "      <td>-0.007628</td>\n",
       "      <td>-0.136423</td>\n",
       "      <td>0.108403</td>\n",
       "      <td>-0.022077</td>\n",
       "      <td>-0.006070</td>\n",
       "    </tr>\n",
       "    <tr>\n",
       "      <th>6</th>\n",
       "      <td>life_expec</td>\n",
       "      <td>0.343857</td>\n",
       "      <td>-0.369820</td>\n",
       "      <td>0.196752</td>\n",
       "      <td>-0.018395</td>\n",
       "      <td>-0.154041</td>\n",
       "      <td>-0.586010</td>\n",
       "      <td>0.581208</td>\n",
       "      <td>0.002966</td>\n",
       "    </tr>\n",
       "    <tr>\n",
       "      <th>7</th>\n",
       "      <td>total_fer</td>\n",
       "      <td>-0.302842</td>\n",
       "      <td>0.459715</td>\n",
       "      <td>-0.077834</td>\n",
       "      <td>-0.213928</td>\n",
       "      <td>-0.020336</td>\n",
       "      <td>-0.753901</td>\n",
       "      <td>-0.273145</td>\n",
       "      <td>0.034293</td>\n",
       "    </tr>\n",
       "    <tr>\n",
       "      <th>8</th>\n",
       "      <td>gdpp</td>\n",
       "      <td>0.399988</td>\n",
       "      <td>0.200624</td>\n",
       "      <td>0.010339</td>\n",
       "      <td>-0.364772</td>\n",
       "      <td>0.087501</td>\n",
       "      <td>0.045382</td>\n",
       "      <td>-0.044023</td>\n",
       "      <td>-0.799022</td>\n",
       "    </tr>\n",
       "  </tbody>\n",
       "</table>\n",
       "</div>"
      ],
      "text/plain": [
       "      Feature       PC1       PC2       PC3       PC4       PC5       PC6  \\\n",
       "0  child_mort -0.316392  0.476267 -0.150012 -0.148052  0.101995  0.196585   \n",
       "1     exports  0.342887  0.397311 -0.030574  0.449425 -0.038538 -0.038911   \n",
       "2      health  0.358535  0.155053 -0.075703 -0.599712 -0.493200  0.180699   \n",
       "3     imports  0.344865  0.370781 -0.072174  0.461798 -0.252787 -0.012180   \n",
       "4      income  0.380041  0.128384  0.145764 -0.154806  0.794075 -0.038147   \n",
       "5   inflation -0.143085  0.221261  0.948419 -0.007628 -0.136423  0.108403   \n",
       "6  life_expec  0.343857 -0.369820  0.196752 -0.018395 -0.154041 -0.586010   \n",
       "7   total_fer -0.302842  0.459715 -0.077834 -0.213928 -0.020336 -0.753901   \n",
       "8        gdpp  0.399988  0.200624  0.010339 -0.364772  0.087501  0.045382   \n",
       "\n",
       "        PC7       PC8  \n",
       "0  0.761267  0.006444  \n",
       "1 -0.013670 -0.055264  \n",
       "2 -0.064616  0.430072  \n",
       "3  0.027182  0.131135  \n",
       "4 -0.023113  0.393811  \n",
       "5 -0.022077 -0.006070  \n",
       "6  0.581208  0.002966  \n",
       "7 -0.273145  0.034293  \n",
       "8 -0.044023 -0.799022  "
      ]
     },
     "execution_count": 26,
     "metadata": {},
     "output_type": "execute_result"
    }
   ],
   "source": [
    "#Explaining original 8 variables using principal components.\n",
    "colnames = list(dat1.columns)\n",
    "pcs_df = pd.DataFrame({ 'Feature':colnames,'PC1':pca.components_[0],'PC2':pca.components_[1],\n",
    "                       'PC3':pca.components_[2],'PC4':pca.components_[3],'PC5':pca.components_[4],\n",
    "                       'PC6':pca.components_[5],'PC7':pca.components_[6],'PC8':pca.components_[7],})\n",
    "pcs_df"
   ]
  },
  {
   "cell_type": "code",
   "execution_count": 27,
   "metadata": {},
   "outputs": [
    {
     "data": {
      "image/png": "[encoded data removed]",
      "text/plain": [
       "<Figure size 576x576 with 1 Axes>"
      ]
     },
     "metadata": {
      "needs_background": "light"
     },
     "output_type": "display_data"
    }
   ],
   "source": [
    "# Let's plot them to visualise how these features are loaded\n",
    "\n",
    "%matplotlib inline\n",
    "fig = plt.figure(figsize = (8,8))\n",
    "plt.scatter(pcs_df.PC1, pcs_df.PC2)\n",
    "plt.xlabel('Principal Component 1')\n",
    "plt.ylabel('Principal Component 2')\n",
    "for i, txt in enumerate(pcs_df.Feature):\n",
    "    plt.annotate(txt, (pcs_df.PC1[i],pcs_df.PC2[i]))\n",
    "plt.tight_layout()\n",
    "plt.show()"
   ]
  },
  {
   "cell_type": "code",
   "execution_count": 28,
   "metadata": {},
   "outputs": [],
   "source": [
    "#Finally let's go ahead and do dimenstionality reduction using the two Principal Components\n",
    "from sklearn.decomposition import IncrementalPCA\n",
    "pca_final = IncrementalPCA(n_components=5)"
   ]
  },
  {
   "cell_type": "code",
   "execution_count": 29,
   "metadata": {},
   "outputs": [
    {
     "data": {
      "text/plain": [
       "(167, 5)"
      ]
     },
     "execution_count": 29,
     "metadata": {},
     "output_type": "execute_result"
    }
   ],
   "source": [
    "#Fit transform the dataset\n",
    "df_pca = pca_final.fit_transform(dat2)\n",
    "df_pca.shape"
   ]
  },
  {
   "cell_type": "code",
   "execution_count": 30,
   "metadata": {},
   "outputs": [
    {
     "data": {
      "text/plain": [
       "array([[-2.63633780e+00,  1.47225984e+00, -5.48330498e-01,\n",
       "         2.38302128e-01,  6.10029273e-02],\n",
       "       [-2.37829162e-02, -1.43553539e+00, -1.54701978e-02,\n",
       "        -4.28278354e-01, -1.54305141e-01],\n",
       "       [-4.59228259e-01, -6.79704711e-01,  9.56536815e-01,\n",
       "        -1.93531315e-01, -9.21275020e-02],\n",
       "       [-2.72347181e+00,  2.17496646e+00,  5.97396852e-01,\n",
       "         4.17695067e-01,  5.66944470e-02],\n",
       "       [ 6.49103499e-01, -1.02640436e+00, -2.58645163e-01,\n",
       "        -2.76882415e-01,  7.70873177e-02],\n",
       "       [ 3.59501355e-02, -6.85691881e-01,  1.46841882e+00,\n",
       "         4.60321765e-02, -9.31926507e-02],\n",
       "       [-3.34457119e-01, -1.27861656e+00,  1.90805480e-01,\n",
       "        -4.77018594e-01, -2.53557140e-01],\n",
       "       [ 3.18403890e+00, -2.39407303e-01, -1.31692434e-01,\n",
       "         1.67437937e+00,  8.73676249e-02],\n",
       "       [ 3.81774167e+00,  2.62449000e-01, -2.58554292e-01,\n",
       "         1.02465750e+00, -2.99611118e-01],\n",
       "       [-4.68004699e-01, -4.93948233e-01,  6.11513868e-01,\n",
       "        -2.76290913e-01,  1.15536307e-01],\n",
       "       [ 1.49946356e+00, -4.25403860e-01, -5.43188833e-01,\n",
       "         2.54181402e-01, -1.09091167e-01],\n",
       "       [ 1.47143260e+00, -3.26326702e-01,  3.97743640e-01,\n",
       "        -2.17918978e-01,  7.96269292e-01],\n",
       "       [-1.01526893e+00, -7.13953680e-01, -1.02949577e-01,\n",
       "        -3.54865875e-01, -2.54570490e-01],\n",
       "       [ 8.44643313e-01, -1.00952007e+00, -4.11578573e-01,\n",
       "        -1.16555146e-01, -2.02065607e-01],\n",
       "       [-1.51885284e-02, -9.86231378e-01,  8.96114083e-01,\n",
       "        -5.13359668e-01, -4.67369769e-02],\n",
       "       [ 3.96103473e+00,  8.37822447e-01, -2.71866280e-01,\n",
       "         3.11797667e-01, -5.33685628e-01],\n",
       "       [-4.03753630e-01, -9.23972570e-01, -5.05497008e-01,\n",
       "        -3.55780316e-01, -9.31953610e-02],\n",
       "       [-2.36423532e+00,  1.17352908e+00, -1.25074092e+00,\n",
       "         2.42826717e-01,  1.49385935e-01],\n",
       "       [-7.15991977e-01, -7.70400643e-01, -1.27548222e-01,\n",
       "        -3.44813442e-01, -1.49521165e-01],\n",
       "       [-1.01873279e+00, -4.29274420e-01,  5.23464370e-02,\n",
       "        -1.92257229e-01, -1.65402287e-01],\n",
       "       [ 2.51255457e-01, -1.70010208e+00, -2.41858936e-01,\n",
       "        -4.34006184e-01, -2.27721408e-01],\n",
       "       [-1.13016378e+00,  4.02021948e-01, -2.25403431e-01,\n",
       "        -1.41536965e-01,  1.97822002e-01],\n",
       "       [ 1.65858523e-01, -1.01886132e+00,  2.83248270e-01,\n",
       "         3.78576888e-02, -1.17450941e-01],\n",
       "       [ 2.69856192e+00,  3.74733380e-01,  1.56233291e+00,\n",
       "         1.46604773e-02,  2.36625226e+00],\n",
       "       [ 2.79686469e-01, -1.32232123e+00, -3.23306394e-01,\n",
       "        -4.28927378e-01,  5.42423297e-02],\n",
       "       [-2.75209021e+00,  1.66724052e+00, -8.50067229e-01,\n",
       "         3.27684263e-01,  1.27909639e-01],\n",
       "       [-2.76318275e+00,  1.62858320e+00, -2.99614669e-01,\n",
       "         3.16131409e-01, -3.67928539e-03],\n",
       "       [-1.17989039e+00, -4.93762242e-01, -5.69754818e-01,\n",
       "        -3.19317842e-01, -1.45094124e-01],\n",
       "       [-2.43945813e+00,  1.29052537e+00, -1.22648379e+00,\n",
       "         1.98708904e-01,  2.02107270e-01],\n",
       "       [ 3.39718173e+00, -6.60646709e-02, -4.76429156e-02,\n",
       "         1.62247985e+00, -2.91629221e-01],\n",
       "       [-5.24266414e-01, -9.80279388e-01, -5.73835422e-01,\n",
       "        -3.46541359e-01, -1.37144634e-01],\n",
       "       [-3.23809665e+00,  2.18421586e+00, -1.60075184e+00,\n",
       "         2.62970334e-01,  3.51212423e-01],\n",
       "       [-3.18604011e+00,  2.35971082e+00, -1.08276050e+00,\n",
       "         5.30972452e-01,  2.66734617e-01],\n",
       "       [ 6.91419616e-01, -1.11761495e+00,  4.94528749e-01,\n",
       "        -7.07726286e-02, -6.22963669e-02],\n",
       "       [-1.30373674e-01, -1.36558403e+00,  1.78344242e-01,\n",
       "        -4.23151036e-01, -1.57646292e-01],\n",
       "       [-1.48910540e-02, -1.29472473e+00, -9.19162432e-02,\n",
       "        -2.18015315e-01, -1.12431319e-01],\n",
       "       [-1.94929834e+00,  6.05933955e-01, -7.78443480e-01,\n",
       "         9.98253061e-02, -3.29755349e-02],\n",
       "       [-3.11589805e+00,  2.17194637e+00,  3.59768430e-01,\n",
       "         4.31400702e-01, -6.81928359e-02],\n",
       "       [-2.04824110e+00,  1.08616029e+00,  7.19239955e-01,\n",
       "         3.20281922e-02, -1.10849442e-01],\n",
       "       [ 4.30050318e-01, -1.37732068e+00,  2.63130401e-01,\n",
       "        -1.37670816e-01, -2.69840569e-01],\n",
       "       [-2.57289374e+00,  1.50015907e+00, -9.55725062e-01,\n",
       "         2.15847874e-01,  1.75420425e-01],\n",
       "       [ 8.45886963e-01, -1.26414490e+00, -2.70247877e-01,\n",
       "        -1.70011939e-01,  7.05220270e-02],\n",
       "       [ 2.31375359e+00, -5.50775615e-01, -6.90122204e-02,\n",
       "        -1.41129173e-01,  1.89212689e-01],\n",
       "       [ 1.67439409e+00, -8.68372925e-01, -4.41958470e-01,\n",
       "        -2.60272214e-01,  1.55603717e-01],\n",
       "       [ 4.37874567e+00,  9.28095773e-01, -1.61887310e-01,\n",
       "         1.59496586e+00, -6.58337876e-01],\n",
       "       [-3.68475106e-01, -8.14995033e-01, -7.67786752e-02,\n",
       "        -1.75366875e-01, -3.27086765e-02],\n",
       "       [-3.03979341e-01, -9.77017260e-01,  1.69652873e-01,\n",
       "        -1.85932639e-01, -1.85512994e-01],\n",
       "       [-8.37625700e-01, -5.32583166e-01,  2.48087127e-01,\n",
       "        -1.99860621e-01, -2.38338653e-02],\n",
       "       [-3.37888814e-01, -1.22054410e+00, -2.85673012e-01,\n",
       "        -3.66907331e-01, -1.61428919e-01],\n",
       "       [-1.05344224e+00,  2.70069088e+00,  1.04827820e+00,\n",
       "         3.17983365e-01,  8.15992627e-01],\n",
       "       [-1.94891730e+00,  4.92318874e-01, -3.79818143e-02,\n",
       "        -3.29136431e-02, -1.53073070e-01],\n",
       "       [ 1.06461155e+00, -9.26815010e-01, -2.05893536e-01,\n",
       "        -4.67821366e-01,  1.06812861e-01],\n",
       "       [-7.63406954e-01, -5.82307178e-01, -3.78052339e-01,\n",
       "        -3.87646163e-01, -5.99801315e-02],\n",
       "       [ 3.20372425e+00,  2.39238089e-03, -2.81518428e-01,\n",
       "         1.00651905e+00, -3.30231613e-02],\n",
       "       [ 2.89490551e+00, -2.98425520e-01, -2.14798171e-01,\n",
       "         1.51748060e+00, -2.43477366e-01],\n",
       "       [-1.28221066e+00,  8.52033851e-01,  5.16413776e-01,\n",
       "         8.34204768e-02,  2.69032383e-01],\n",
       "       [-2.10476044e+00,  8.25478462e-01, -7.66035704e-01,\n",
       "         2.23241341e-01, -2.79954611e-03],\n",
       "       [-3.62277192e-01, -1.16847784e+00,  2.36606264e-01,\n",
       "        -4.10071524e-01, -2.97300202e-01],\n",
       "       [ 3.30170785e+00, -1.55398559e-01, -2.40857511e-01,\n",
       "         1.16453092e+00, -2.03114253e-01],\n",
       "       [-2.00264134e+00,  7.50936528e-01,  3.74269244e-01,\n",
       "         1.46711546e-03, -1.50877994e-01],\n",
       "       [ 1.93154936e+00, -1.01763072e+00, -2.00726950e-01,\n",
       "         6.20709629e-01, -5.62120549e-02],\n",
       "       [-8.62260160e-02, -1.04001774e+00, -5.12251148e-01,\n",
       "        -3.09421917e-01, -2.51625584e-02],\n",
       "       [-8.58362476e-01, -5.37487549e-01, -2.43963280e-01,\n",
       "        -1.55037851e-01, -1.01340554e-01],\n",
       "       [-2.71347417e+00,  1.61553187e+00,  4.07241905e-02,\n",
       "         2.28763143e-01, -4.59796014e-02],\n",
       "       [-2.60886003e+00,  1.40913052e+00, -1.19555042e+00,\n",
       "         1.82710861e-01,  1.70777021e-01],\n",
       "       [-9.33046598e-01, -4.33130944e-01, -2.99677570e-01,\n",
       "        -3.60298748e-01, -1.17465159e-01],\n",
       "       [-3.93954022e+00,  3.04850935e+00, -1.74750175e+00,\n",
       "         9.19213202e-02,  5.63375781e-01],\n",
       "       [ 1.05100887e+00, -9.95450937e-01, -1.73020374e-01,\n",
       "        -5.38124076e-01,  5.85555270e-02],\n",
       "       [ 3.10151692e+00,  1.68439475e-01,  1.92851012e-01,\n",
       "         7.75542077e-01, -1.65966782e-01],\n",
       "       [-1.26575408e+00, -2.73511889e-01, -6.50739617e-02,\n",
       "        -2.81430294e-01, -1.24551969e-01],\n",
       "       [-8.43456800e-01, -5.68292256e-01,  7.15274717e-01,\n",
       "        -3.09809664e-01, -1.52656061e-01],\n",
       "       [-7.96066480e-02, -9.75349727e-01,  1.01388038e+00,\n",
       "        -2.67545815e-01,  3.35944183e-02],\n",
       "       [-1.19807283e+00,  3.63927496e-01,  6.66187606e-01,\n",
       "         1.11568331e-01,  3.59200374e-02],\n",
       "       [ 4.66041154e+00,  1.40214823e+00, -7.54224188e-01,\n",
       "        -3.34533616e-01, -4.09162441e-01],\n",
       "       [ 1.78420908e+00, -3.97292536e-01, -1.54209703e-01,\n",
       "         6.15361962e-01,  9.20536816e-02],\n",
       "       [ 2.55508731e+00, -7.70212072e-01, -1.80859943e-01,\n",
       "         9.35171313e-01,  9.05428564e-02],\n",
       "       [-2.94312124e-01, -1.07627971e+00,  3.81180616e-01,\n",
       "        -3.76794519e-01, -2.59980714e-01],\n",
       "       [ 2.86196065e+00, -8.68471054e-01, -3.59774606e-01,\n",
       "         1.54440892e+00,  6.59731677e-03],\n",
       "       [-5.22882864e-01, -6.43525977e-01,  1.97151788e-01,\n",
       "        -1.36745303e-01, -1.61433174e-01],\n",
       "       [-3.57503427e-01, -2.24449690e-01,  1.16356214e+00,\n",
       "        -1.89155208e-01,  1.78226287e-01],\n",
       "       [-1.73719248e+00,  2.82650209e-01, -8.78821464e-01,\n",
       "        -3.93438483e-02,  4.47947653e-03],\n",
       "       [-1.66730589e+00,  2.35865844e-01, -9.64390178e-01,\n",
       "        -1.06889831e-01, -5.69015051e-02],\n",
       "       [ 2.78337904e+00,  4.15724598e-01,  1.01849013e+00,\n",
       "         5.06528652e-03,  2.18968887e+00],\n",
       "       [-1.09212787e+00, -5.48887175e-01,  1.46669651e-01,\n",
       "        -3.12851671e-01, -2.88585249e-01],\n",
       "       [-1.63783081e+00,  2.40206118e-01, -2.06802129e-01,\n",
       "        -1.63138364e-01, -5.76327901e-02],\n",
       "       [ 6.65798534e-01, -1.21006884e+00, -4.94995984e-01,\n",
       "        -4.20664301e-01,  9.33349516e-02],\n",
       "       [ 6.46278323e-01, -1.50076877e+00, -2.80115299e-01,\n",
       "        -3.46461285e-01, -2.41036295e-02],\n",
       "       [-2.43444700e+00,  1.16414823e+00, -1.14081762e+00,\n",
       "        -1.62731806e-01,  1.74770123e-01],\n",
       "       [-2.25836383e+00,  9.34606847e-01, -7.68179034e-01,\n",
       "         1.16935969e-01, -1.13709263e-02],\n",
       "       [ 4.91704980e-01, -5.20736573e-01,  9.33630620e-01,\n",
       "        -2.39774320e-01,  4.72335725e-01],\n",
       "       [ 7.77137750e-01, -1.00529350e+00, -2.00463348e-01,\n",
       "        -4.41043365e-01,  1.05255664e-01],\n",
       "       [ 1.26348745e+01,  8.22317047e+00, -6.19223710e-01,\n",
       "        -4.39746865e+00, -1.81607581e+00],\n",
       "       [ 8.27302346e-02, -1.46879490e+00, -2.47851794e-01,\n",
       "        -4.89207753e-01, -7.70191359e-02],\n",
       "       [-1.99722667e+00,  5.54216753e-01, -3.37354995e-01,\n",
       "        -2.52910269e-02, -9.26476620e-02],\n",
       "       [-2.70998097e+00,  1.49829717e+00, -3.53837915e-01,\n",
       "         1.42369932e-01,  2.41446790e-02],\n",
       "       [ 4.25940891e-01, -8.49832807e-01,  2.51800683e-01,\n",
       "        -4.88192076e-01,  1.79336439e-01],\n",
       "       [ 2.29724910e-01, -1.18437407e+00, -1.65423115e-01,\n",
       "        -4.10236679e-01, -2.11761585e-01],\n",
       "       [-2.94467165e+00,  2.01452740e+00, -1.14762289e+00,\n",
       "         4.99753322e-01,  2.29804918e-01],\n",
       "       [ 2.63276230e+00,  7.51261919e-02, -5.51355981e-02,\n",
       "        -1.22983276e+00, -4.70955248e-01],\n",
       "       [-2.11493639e+00,  1.04302904e+00,  5.88903864e-01,\n",
       "         1.93108337e-01, -1.71138030e-01],\n",
       "       [ 3.10564256e-01, -1.18470561e+00, -3.51255666e-01,\n",
       "        -4.47429494e-01,  6.93934059e-02],\n",
       "       [-1.11608440e+00, -2.13290317e-01, -5.54543655e-01,\n",
       "        -1.37919694e-01, -2.18028247e-01],\n",
       "       [-5.13324993e-01, -1.23548510e+00,  4.14999557e-01,\n",
       "        -5.78427675e-01, -4.07218493e-01],\n",
       "       [-1.27133811e+00,  7.53295919e-02,  2.79287904e+00,\n",
       "        -3.23060343e-01, -5.12643453e-01],\n",
       "       [ 3.54765408e-01, -1.40887207e+00, -2.37376593e-01,\n",
       "        -3.52638174e-01, -8.27232513e-02],\n",
       "       [-5.47641444e-01, -9.80530704e-01, -5.23472234e-01,\n",
       "        -3.06564886e-01, -1.07771172e-01],\n",
       "       [-2.73118909e+00,  1.54739493e+00, -7.78918224e-01,\n",
       "         2.07555619e-01,  9.64534343e-02],\n",
       "       [-1.26501552e+00, -3.58054869e-01, -2.39772783e-01,\n",
       "        -2.97384982e-01, -1.13776653e-01],\n",
       "       [-1.33523177e+00,  4.16923264e-01, -7.55851404e-01,\n",
       "        -1.17977319e-01,  1.26253836e-01],\n",
       "       [-1.25409822e+00, -4.07664374e-01,  5.58918850e-01,\n",
       "        -3.23242620e-01, -3.55080864e-01],\n",
       "       [ 4.49565181e+00,  9.94097780e-01, -3.58735177e-01,\n",
       "         8.49291127e-01, -6.17332346e-01],\n",
       "       [ 2.20867042e+00, -4.55859587e-01,  3.21815174e-02,\n",
       "         9.67164780e-01, -8.76207180e-02],\n",
       "       [-3.06116318e+00,  2.10846634e+00, -1.32968121e+00,\n",
       "         5.82765045e-01,  2.27999744e-01],\n",
       "       [-3.93456168e+00,  3.81988863e+00,  7.92861207e+00,\n",
       "         5.52149869e-01, -1.07663082e+00],\n",
       "       [ 5.84824852e+00,  1.66835778e+00,  1.92655378e-01,\n",
       "         2.74877619e+00, -2.37380799e-01],\n",
       "       [ 1.05212208e+00, -2.90598741e-02,  1.15143375e+00,\n",
       "        -1.41152377e-01,  1.06781401e+00],\n",
       "       [-1.86230310e+00,  5.67797841e-01, -1.02646031e-01,\n",
       "         3.69264309e-04, -1.86381034e-02],\n",
       "       [ 3.01947222e-01, -8.81426331e-01, -2.18071880e-01,\n",
       "        -2.70327222e-01, -5.37293348e-02],\n",
       "       [-4.89031677e-01, -9.20478290e-01, -2.00688224e-02,\n",
       "        -3.11559961e-01, -1.85382965e-01],\n",
       "       [-1.81278810e-01, -1.16601052e+00,  7.29622399e-02,\n",
       "        -2.40270788e-01, -1.26234830e-01],\n",
       "       [-9.29788741e-01, -6.01468566e-01, -3.54401565e-01,\n",
       "        -2.63765780e-01, -9.13975542e-02],\n",
       "       [ 8.54391522e-01, -1.28768975e+00, -1.73107872e-01,\n",
       "        -2.39458354e-01,  1.45713222e-01],\n",
       "       [ 1.76011692e+00, -1.08617020e+00, -2.15437910e-01,\n",
       "         3.83998350e-01, -6.89326441e-02],\n",
       "       [ 5.13206420e+00,  1.46013127e+00,  1.01202344e+00,\n",
       "         3.31412654e-01,  4.25254951e+00],\n",
       "       [ 2.82867277e-01, -1.24376720e+00, -8.97428095e-02,\n",
       "        -3.53876101e-01,  1.51892523e-01],\n",
       "       [ 1.41208703e-01, -7.97501443e-01,  8.22572515e-01,\n",
       "        -2.47617363e-01,  2.86445171e-01],\n",
       "       [-1.74824014e+00,  2.59649035e-01, -8.14183618e-01,\n",
       "        -5.74060509e-03, -6.61184964e-02],\n",
       "       [-8.49130691e-01, -4.95132008e-01, -5.50451088e-01,\n",
       "        -7.63963321e-02, -1.32344128e-01],\n",
       "       [ 9.12204637e-01,  3.19017843e-02,  1.25716307e+00,\n",
       "         1.06752293e-01,  1.03971689e+00],\n",
       "       [-1.86224603e+00,  4.94968265e-01, -9.31382733e-01,\n",
       "         8.49049825e-02,  1.12058178e-02],\n",
       "       [ 1.85066383e-01, -1.43378580e+00,  1.27939972e-01,\n",
       "        -3.90974283e-01, -1.48806137e-01],\n",
       "       [ 6.67431523e-01, -7.69822892e-01, -8.63953620e-01,\n",
       "        -6.80945008e-01,  2.44398732e-01],\n",
       "       [-3.22480450e+00,  2.32261358e+00, -1.11519642e-01,\n",
       "         3.58402757e-01,  7.71093715e-02],\n",
       "       [ 6.58396483e+00,  2.91519719e+00, -3.22629151e-01,\n",
       "        -3.55377517e+00,  3.36902441e-01],\n",
       "       [ 1.40979941e+00, -7.90340525e-01, -3.45099874e-01,\n",
       "        -3.85471192e-01,  2.94884498e-02],\n",
       "       [ 2.04142058e+00, -7.26673067e-01, -3.97472350e-01,\n",
       "        -6.51017262e-02, -5.29775017e-02],\n",
       "       [-1.51836951e+00,  1.28375272e-02, -3.53271143e-01,\n",
       "        -1.69333580e-01, -1.84201047e-01],\n",
       "       [-1.17856693e+00,  3.57243873e-01, -5.13738769e-01,\n",
       "        -8.81210715e-02,  2.05570787e-01],\n",
       "       [ 1.75620599e+00, -1.02255881e+00,  7.27930434e-02,\n",
       "        -1.16541557e-01,  2.11397211e-01],\n",
       "       [ 2.24496442e+00, -1.00179335e+00, -1.86866756e-01,\n",
       "         7.11404753e-01,  6.13161265e-02],\n",
       "       [-5.46925252e-01, -9.53848040e-01,  1.58729852e+00,\n",
       "        -3.91224075e-01, -3.65525598e-01],\n",
       "       [-2.26419639e-01, -9.87630320e-01, -1.67061993e-01,\n",
       "        -3.89318638e-01, -9.54597558e-02],\n",
       "       [-2.01735186e+00,  8.47894830e-01,  6.96611807e-01,\n",
       "         1.50028284e-01, -2.01538568e-01],\n",
       "       [-1.98244111e-01, -5.67999113e-01,  3.51582150e-02,\n",
       "        -2.00601965e-01,  1.57498578e-02],\n",
       "       [ 3.80832892e+00,  3.86351829e-01, -2.37049798e-01,\n",
       "         1.19388304e+00, -2.20076236e-01],\n",
       "       [ 6.26604980e+00,  1.85834279e+00, -4.36016170e-01,\n",
       "         1.71322774e+00, -9.45591915e-01],\n",
       "       [-1.37697536e+00, -1.67381044e-01,  2.84455654e-01,\n",
       "        -1.65781136e-01, -2.92793028e-01],\n",
       "       [-2.27787934e+00,  1.00711959e+00, -4.04580608e-01,\n",
       "         1.42103366e-01, -6.21739128e-03],\n",
       "       [ 1.73549043e-01, -1.40146991e+00, -1.27262445e-02,\n",
       "        -5.24677391e-01, -1.61539139e-02],\n",
       "       [-2.00790902e+00,  1.08320446e+00,  1.38086173e+00,\n",
       "         4.42455510e-01, -4.62284963e-01],\n",
       "       [-2.24396893e+00,  9.06388512e-01, -1.19179873e+00,\n",
       "         8.49684022e-02,  9.27280869e-02],\n",
       "       [-8.58227997e-01, -5.46646984e-01, -3.82174827e-01,\n",
       "        -1.62538736e-01, -1.68337161e-01],\n",
       "       [-6.25865971e-02, -1.28465363e+00, -9.06319126e-02,\n",
       "        -3.81933807e-01, -1.19530796e-01],\n",
       "       [ 3.28152036e-01, -1.06737313e+00,  2.57679451e-01,\n",
       "        -5.35884981e-02,  5.09058035e-02],\n",
       "       [-8.95280414e-01, -1.89937456e-01, -6.24749768e-01,\n",
       "        -2.55191732e-01,  1.53183713e-01],\n",
       "       [-2.62168238e+00,  1.46240664e+00, -4.13947578e-01,\n",
       "         2.71157487e-01,  2.57064420e-02],\n",
       "       [-3.73654908e-01, -1.16196499e+00,  6.75665703e-01,\n",
       "        -5.29782804e-01, -2.99318689e-01],\n",
       "       [ 2.68993109e+00,  5.40482257e-01,  9.23005162e-01,\n",
       "        -4.84674823e-01,  1.14007149e+00],\n",
       "       [ 2.60725776e+00, -3.67546119e-01, -1.53902620e-01,\n",
       "         1.06504360e+00, -1.07489540e-02],\n",
       "       [ 3.78619060e+00,  1.41649993e-01, -2.97774223e-01,\n",
       "         3.29124818e+00, -5.38677048e-01],\n",
       "       [ 4.55607220e-01, -1.09932638e+00,  4.51179027e-02,\n",
       "        -1.96618883e-02, -2.90938249e-02],\n",
       "       [-1.03229566e+00, -5.67502483e-01,  7.64642172e-01,\n",
       "        -3.64002038e-01, -3.32114480e-01],\n",
       "       [-1.17560608e+00, -2.81249100e-01, -6.63618938e-01,\n",
       "        -2.58950482e-01, -1.33250526e-01],\n",
       "       [-3.14504831e-01, -1.91426333e-02,  3.68085401e+00,\n",
       "         1.67724380e-02, -4.75066116e-01],\n",
       "       [-5.94560306e-01, -1.08412972e+00,  5.28668085e-01,\n",
       "        -4.78067262e-01, -3.73131976e-01],\n",
       "       [-1.80283959e+00,  5.84669129e-01,  1.17955134e+00,\n",
       "         5.15095885e-02, -2.74607707e-01],\n",
       "       [-2.64560383e+00,  1.57191703e+00, -1.69911274e-01,\n",
       "         1.61734999e-01,  7.70921275e-02]])"
      ]
     },
     "execution_count": 30,
     "metadata": {},
     "output_type": "execute_result"
    }
   ],
   "source": [
    "#Listing all the values for selected 5 components\n",
    "df_pca"
   ]
  },
  {
   "cell_type": "code",
   "execution_count": 31,
   "metadata": {},
   "outputs": [],
   "source": [
    "#Creating a transpose so that the each column is properly arranged\n",
    "pc = np.transpose(df_pca)"
   ]
  },
  {
   "cell_type": "code",
   "execution_count": 32,
   "metadata": {},
   "outputs": [],
   "source": [
    "#Making dataframe of the required components\n",
    "pcs_df2 = pd.DataFrame({'PC1':pc[0],'PC2':pc[1], 'PC3':pc[2],'PC4':pc[3],'PC5':pc[4]})"
   ]
  },
  {
   "cell_type": "code",
   "execution_count": 33,
   "metadata": {},
   "outputs": [
    {
     "data": {
      "text/html": [
       "<div>\n",
       "<style scoped>\n",
       "    .dataframe tbody tr th:only-of-type {\n",
       "        vertical-align: middle;\n",
       "    }\n",
       "\n",
       "    .dataframe tbody tr th {\n",
       "        vertical-align: top;\n",
       "    }\n",
       "\n",
       "    .dataframe thead th {\n",
       "        text-align: right;\n",
       "    }\n",
       "</style>\n",
       "<table border=\"1\" class=\"dataframe\">\n",
       "  <thead>\n",
       "    <tr style=\"text-align: right;\">\n",
       "      <th></th>\n",
       "      <th>PC1</th>\n",
       "      <th>PC2</th>\n",
       "      <th>PC3</th>\n",
       "      <th>PC4</th>\n",
       "      <th>PC5</th>\n",
       "    </tr>\n",
       "  </thead>\n",
       "  <tbody>\n",
       "    <tr>\n",
       "      <th>0</th>\n",
       "      <td>-2.636338</td>\n",
       "      <td>1.472260</td>\n",
       "      <td>-0.548330</td>\n",
       "      <td>0.238302</td>\n",
       "      <td>0.061003</td>\n",
       "    </tr>\n",
       "    <tr>\n",
       "      <th>1</th>\n",
       "      <td>-0.023783</td>\n",
       "      <td>-1.435535</td>\n",
       "      <td>-0.015470</td>\n",
       "      <td>-0.428278</td>\n",
       "      <td>-0.154305</td>\n",
       "    </tr>\n",
       "    <tr>\n",
       "      <th>2</th>\n",
       "      <td>-0.459228</td>\n",
       "      <td>-0.679705</td>\n",
       "      <td>0.956537</td>\n",
       "      <td>-0.193531</td>\n",
       "      <td>-0.092128</td>\n",
       "    </tr>\n",
       "    <tr>\n",
       "      <th>3</th>\n",
       "      <td>-2.723472</td>\n",
       "      <td>2.174966</td>\n",
       "      <td>0.597397</td>\n",
       "      <td>0.417695</td>\n",
       "      <td>0.056694</td>\n",
       "    </tr>\n",
       "    <tr>\n",
       "      <th>4</th>\n",
       "      <td>0.649103</td>\n",
       "      <td>-1.026404</td>\n",
       "      <td>-0.258645</td>\n",
       "      <td>-0.276882</td>\n",
       "      <td>0.077087</td>\n",
       "    </tr>\n",
       "  </tbody>\n",
       "</table>\n",
       "</div>"
      ],
      "text/plain": [
       "        PC1       PC2       PC3       PC4       PC5\n",
       "0 -2.636338  1.472260 -0.548330  0.238302  0.061003\n",
       "1 -0.023783 -1.435535 -0.015470 -0.428278 -0.154305\n",
       "2 -0.459228 -0.679705  0.956537 -0.193531 -0.092128\n",
       "3 -2.723472  2.174966  0.597397  0.417695  0.056694\n",
       "4  0.649103 -1.026404 -0.258645 -0.276882  0.077087"
      ]
     },
     "execution_count": 33,
     "metadata": {},
     "output_type": "execute_result"
    }
   ],
   "source": [
    "#Fetching top 5 rows\n",
    "pcs_df2.head()"
   ]
  },
  {
   "cell_type": "code",
   "execution_count": 34,
   "metadata": {},
   "outputs": [],
   "source": [
    "#creating correlation matrix for the principal components\n",
    "corrmat = pcs_df2.corr()"
   ]
  },
  {
   "cell_type": "code",
   "execution_count": 35,
   "metadata": {},
   "outputs": [
    {
     "data": {
      "text/plain": [
       "<matplotlib.axes._subplots.AxesSubplot at 0xdc22320>"
      ]
     },
     "execution_count": 35,
     "metadata": {},
     "output_type": "execute_result"
    },
    {
     "data": {
      "image/png": "[encoded data removed]",
      "text/plain": [
       "<Figure size 1440x720 with 2 Axes>"
      ]
     },
     "metadata": {
      "needs_background": "light"
     },
     "output_type": "display_data"
    }
   ],
   "source": [
    "#plotting the correlation matrix\n",
    "%matplotlib inline\n",
    "plt.figure(figsize = (20,10))\n",
    "sns.heatmap(corrmat,annot = True)"
   ]
  },
  {
   "cell_type": "markdown",
   "metadata": {},
   "source": [
    "It can be observed from the heatmap that there is no correlation among the principal components."
   ]
  },
  {
   "cell_type": "code",
   "execution_count": 36,
   "metadata": {},
   "outputs": [
    {
     "data": {
      "text/plain": [
       "<matplotlib.axes._subplots.AxesSubplot at 0xe016e10>"
      ]
     },
     "execution_count": 36,
     "metadata": {},
     "output_type": "execute_result"
    },
    {
     "data": {
      "image/png": "[encoded data removed]",
      "text/plain": [
       "<Figure size 1080x1440 with 10 Axes>"
      ]
     },
     "metadata": {
      "needs_background": "light"
     },
     "output_type": "display_data"
    }
   ],
   "source": [
    "#Visualising the points on the Principal components and relation between different PCs.\n",
    "\n",
    "plt.figure(figsize=(15,20))\n",
    "\n",
    "plt.subplot(5,2,1)\n",
    "sns.scatterplot(x='PC1',y='PC2',data=pcs_df2)\n",
    "plt.subplot(5,2,2)\n",
    "sns.scatterplot(x='PC1',y='PC3',data=pcs_df2)\n",
    "plt.subplot(5,2,3)\n",
    "sns.scatterplot(x='PC1',y='PC4',data=pcs_df2)\n",
    "plt.subplot(5,2,4)\n",
    "sns.scatterplot(x='PC1',y='PC5',data=pcs_df2)\n",
    "plt.subplot(5,2,5)\n",
    "sns.scatterplot(x='PC2',y='PC3',data=pcs_df2)\n",
    "plt.subplot(5,2,6)\n",
    "sns.scatterplot(x='PC2',y='PC4',data=pcs_df2)\n",
    "plt.subplot(5,2,7)\n",
    "sns.scatterplot(x='PC2',y='PC5',data=pcs_df2)\n",
    "plt.subplot(5,2,8)\n",
    "sns.scatterplot(x='PC3',y='PC4',data=pcs_df2)\n",
    "plt.subplot(5,2,9)\n",
    "sns.scatterplot(x='PC3',y='PC5',data=pcs_df2)\n",
    "plt.subplot(5,2,10)\n",
    "sns.scatterplot(x='PC4',y='PC5',data=pcs_df2)\n"
   ]
  },
  {
   "cell_type": "markdown",
   "metadata": {},
   "source": [
    "## Clustering "
   ]
  },
  {
   "cell_type": "code",
   "execution_count": 37,
   "metadata": {},
   "outputs": [],
   "source": [
    "#Calculating the Hopkins statistic\n",
    "from sklearn.neighbors import NearestNeighbors\n",
    "from random import sample\n",
    "from numpy.random import uniform\n",
    "import numpy as np\n",
    "from math import isnan\n",
    " \n",
    "def hopkins(X):\n",
    "    d = X.shape[1]\n",
    "    #d = len(vars) # columns\n",
    "    n = len(X) # rows\n",
    "    m = int(0.1 * n) \n",
    "    nbrs = NearestNeighbors(n_neighbors=1).fit(X.values)\n",
    " \n",
    "    rand_X = sample(range(0, n, 1), m)\n",
    " \n",
    "    ujd = []\n",
    "    wjd = []\n",
    "    for j in range(0, m):\n",
    "        u_dist, _ = nbrs.kneighbors(uniform(np.amin(X,axis=0),np.amax(X,axis=0),d).reshape(1, -1), 2, return_distance=True)\n",
    "        ujd.append(u_dist[0][1])\n",
    "        w_dist, _ = nbrs.kneighbors(X.iloc[rand_X[j]].values.reshape(1, -1), 2, return_distance=True)\n",
    "        wjd.append(w_dist[0][1])\n",
    " \n",
    "    H = sum(ujd) / (sum(ujd) + sum(wjd))\n",
    "    if isnan(H):\n",
    "        print(ujd, wjd)\n",
    "        H = 0\n",
    " \n",
    "    return H"
   ]
  },
  {
   "cell_type": "code",
   "execution_count": 38,
   "metadata": {},
   "outputs": [
    {
     "data": {
      "text/plain": [
       "0.9028095951997109"
      ]
     },
     "execution_count": 38,
     "metadata": {},
     "output_type": "execute_result"
    }
   ],
   "source": [
    "#Hopkins measure\n",
    "hopkins(pcs_df2)"
   ]
  },
  {
   "cell_type": "markdown",
   "metadata": {},
   "source": [
    "Value of >0.5 is considered well for the dataset to be considered good for clustering"
   ]
  },
  {
   "cell_type": "code",
   "execution_count": 39,
   "metadata": {},
   "outputs": [
    {
     "data": {
      "text/html": [
       "<div>\n",
       "<style scoped>\n",
       "    .dataframe tbody tr th:only-of-type {\n",
       "        vertical-align: middle;\n",
       "    }\n",
       "\n",
       "    .dataframe tbody tr th {\n",
       "        vertical-align: top;\n",
       "    }\n",
       "\n",
       "    .dataframe thead th {\n",
       "        text-align: right;\n",
       "    }\n",
       "</style>\n",
       "<table border=\"1\" class=\"dataframe\">\n",
       "  <thead>\n",
       "    <tr style=\"text-align: right;\">\n",
       "      <th></th>\n",
       "      <th>PC1</th>\n",
       "      <th>PC2</th>\n",
       "      <th>PC3</th>\n",
       "      <th>PC4</th>\n",
       "      <th>PC5</th>\n",
       "    </tr>\n",
       "  </thead>\n",
       "  <tbody>\n",
       "    <tr>\n",
       "      <th>0</th>\n",
       "      <td>-2.636338</td>\n",
       "      <td>1.472260</td>\n",
       "      <td>-0.548330</td>\n",
       "      <td>0.238302</td>\n",
       "      <td>0.061003</td>\n",
       "    </tr>\n",
       "    <tr>\n",
       "      <th>1</th>\n",
       "      <td>-0.023783</td>\n",
       "      <td>-1.435535</td>\n",
       "      <td>-0.015470</td>\n",
       "      <td>-0.428278</td>\n",
       "      <td>-0.154305</td>\n",
       "    </tr>\n",
       "    <tr>\n",
       "      <th>2</th>\n",
       "      <td>-0.459228</td>\n",
       "      <td>-0.679705</td>\n",
       "      <td>0.956537</td>\n",
       "      <td>-0.193531</td>\n",
       "      <td>-0.092128</td>\n",
       "    </tr>\n",
       "    <tr>\n",
       "      <th>3</th>\n",
       "      <td>-2.723472</td>\n",
       "      <td>2.174966</td>\n",
       "      <td>0.597397</td>\n",
       "      <td>0.417695</td>\n",
       "      <td>0.056694</td>\n",
       "    </tr>\n",
       "    <tr>\n",
       "      <th>4</th>\n",
       "      <td>0.649103</td>\n",
       "      <td>-1.026404</td>\n",
       "      <td>-0.258645</td>\n",
       "      <td>-0.276882</td>\n",
       "      <td>0.077087</td>\n",
       "    </tr>\n",
       "  </tbody>\n",
       "</table>\n",
       "</div>"
      ],
      "text/plain": [
       "        PC1       PC2       PC3       PC4       PC5\n",
       "0 -2.636338  1.472260 -0.548330  0.238302  0.061003\n",
       "1 -0.023783 -1.435535 -0.015470 -0.428278 -0.154305\n",
       "2 -0.459228 -0.679705  0.956537 -0.193531 -0.092128\n",
       "3 -2.723472  2.174966  0.597397  0.417695  0.056694\n",
       "4  0.649103 -1.026404 -0.258645 -0.276882  0.077087"
      ]
     },
     "execution_count": 39,
     "metadata": {},
     "output_type": "execute_result"
    }
   ],
   "source": [
    "dat3 = pcs_df2\n",
    "dat3.head()"
   ]
  },
  {
   "cell_type": "markdown",
   "metadata": {},
   "source": [
    "### K- means Clustering"
   ]
  },
  {
   "cell_type": "code",
   "execution_count": 40,
   "metadata": {},
   "outputs": [
    {
     "name": "stdout",
     "output_type": "stream",
     "text": [
      "For n_clusters=2, the silhouette score is 0.48066046782755933\n",
      "For n_clusters=3, the silhouette score is 0.45415128979715086\n",
      "For n_clusters=4, the silhouette score is 0.4619522027493683\n",
      "For n_clusters=5, the silhouette score is 0.4650032850035714\n",
      "For n_clusters=6, the silhouette score is 0.3391038451499295\n",
      "For n_clusters=7, the silhouette score is 0.34728874676042487\n",
      "For n_clusters=8, the silhouette score is 0.3316974907691336\n",
      "For n_clusters=9, the silhouette score is 0.36727837916839773\n"
     ]
    },
    {
     "data": {
      "image/png": "[encoded data removed]",
      "text/plain": [
       "<Figure size 432x288 with 1 Axes>"
      ]
     },
     "metadata": {
      "needs_background": "light"
     },
     "output_type": "display_data"
    }
   ],
   "source": [
    "#silhouette score analysis\n",
    "from sklearn.metrics import silhouette_score\n",
    "sse_ = []\n",
    "for k in range(2, 10):\n",
    "    kmeans = KMeans(n_clusters=k).fit(dat3)\n",
    "    sse_.append([k, silhouette_score(dat3, kmeans.labels_)])\n",
    "   \n",
    "    cluster_labels = kmeans.labels_\n",
    "    \n",
    "    # silhouette score\n",
    "    silhouette_avg = silhouette_score(dat3, cluster_labels)\n",
    "    print(\"For n_clusters={0}, the silhouette score is {1}\".format(k, silhouette_avg))\n",
    "    \n",
    "plt.plot(pd.DataFrame(sse_)[0], pd.DataFrame(sse_)[1]);"
   ]
  },
  {
   "cell_type": "markdown",
   "metadata": {},
   "source": [
    "n=2 has value of 0.48 but number of clusters =2 would be too less.\n",
    "n=3 and 5 are other two clusters having value of 0.45 and 0.46 respectively."
   ]
  },
  {
   "cell_type": "code",
   "execution_count": 41,
   "metadata": {},
   "outputs": [
    {
     "data": {
      "text/plain": [
       "(167, 5)"
      ]
     },
     "execution_count": 41,
     "metadata": {},
     "output_type": "execute_result"
    }
   ],
   "source": [
    "pcs_df2.shape"
   ]
  },
  {
   "cell_type": "code",
   "execution_count": 42,
   "metadata": {},
   "outputs": [
    {
     "data": {
      "text/html": [
       "<div>\n",
       "<style scoped>\n",
       "    .dataframe tbody tr th:only-of-type {\n",
       "        vertical-align: middle;\n",
       "    }\n",
       "\n",
       "    .dataframe tbody tr th {\n",
       "        vertical-align: top;\n",
       "    }\n",
       "\n",
       "    .dataframe thead th {\n",
       "        text-align: right;\n",
       "    }\n",
       "</style>\n",
       "<table border=\"1\" class=\"dataframe\">\n",
       "  <thead>\n",
       "    <tr style=\"text-align: right;\">\n",
       "      <th></th>\n",
       "      <th>PC1</th>\n",
       "      <th>PC2</th>\n",
       "      <th>PC3</th>\n",
       "      <th>PC4</th>\n",
       "      <th>PC5</th>\n",
       "    </tr>\n",
       "  </thead>\n",
       "  <tbody>\n",
       "    <tr>\n",
       "      <th>0</th>\n",
       "      <td>-2.636338</td>\n",
       "      <td>1.472260</td>\n",
       "      <td>-0.548330</td>\n",
       "      <td>0.238302</td>\n",
       "      <td>0.061003</td>\n",
       "    </tr>\n",
       "    <tr>\n",
       "      <th>1</th>\n",
       "      <td>-0.023783</td>\n",
       "      <td>-1.435535</td>\n",
       "      <td>-0.015470</td>\n",
       "      <td>-0.428278</td>\n",
       "      <td>-0.154305</td>\n",
       "    </tr>\n",
       "    <tr>\n",
       "      <th>2</th>\n",
       "      <td>-0.459228</td>\n",
       "      <td>-0.679705</td>\n",
       "      <td>0.956537</td>\n",
       "      <td>-0.193531</td>\n",
       "      <td>-0.092128</td>\n",
       "    </tr>\n",
       "    <tr>\n",
       "      <th>3</th>\n",
       "      <td>-2.723472</td>\n",
       "      <td>2.174966</td>\n",
       "      <td>0.597397</td>\n",
       "      <td>0.417695</td>\n",
       "      <td>0.056694</td>\n",
       "    </tr>\n",
       "    <tr>\n",
       "      <th>4</th>\n",
       "      <td>0.649103</td>\n",
       "      <td>-1.026404</td>\n",
       "      <td>-0.258645</td>\n",
       "      <td>-0.276882</td>\n",
       "      <td>0.077087</td>\n",
       "    </tr>\n",
       "  </tbody>\n",
       "</table>\n",
       "</div>"
      ],
      "text/plain": [
       "        PC1       PC2       PC3       PC4       PC5\n",
       "0 -2.636338  1.472260 -0.548330  0.238302  0.061003\n",
       "1 -0.023783 -1.435535 -0.015470 -0.428278 -0.154305\n",
       "2 -0.459228 -0.679705  0.956537 -0.193531 -0.092128\n",
       "3 -2.723472  2.174966  0.597397  0.417695  0.056694\n",
       "4  0.649103 -1.026404 -0.258645 -0.276882  0.077087"
      ]
     },
     "execution_count": 42,
     "metadata": {},
     "output_type": "execute_result"
    }
   ],
   "source": [
    "dat3 = pcs_df2\n",
    "dat3.head()"
   ]
  },
  {
   "cell_type": "code",
   "execution_count": 43,
   "metadata": {},
   "outputs": [
    {
     "data": {
      "text/plain": [
       "[<matplotlib.lines.Line2D at 0xdcb4f28>]"
      ]
     },
     "execution_count": 43,
     "metadata": {},
     "output_type": "execute_result"
    },
    {
     "data": {
      "image/png": "[encoded data removed]",
      "text/plain": [
       "<Figure size 432x288 with 1 Axes>"
      ]
     },
     "metadata": {
      "needs_background": "light"
     },
     "output_type": "display_data"
    }
   ],
   "source": [
    "## From the above analysis we find that 3 or 5 seems to be a good number of clusters for K means algorithm\n",
    "#Now let's proceed to the elbow curve method\n",
    "ssd = []\n",
    "for num_clusters in list(range(1,10)):\n",
    "    model_clus = KMeans(n_clusters = num_clusters, max_iter=50)\n",
    "    model_clus.fit(dat3)\n",
    "    ssd.append(model_clus.inertia_)\n",
    "\n",
    "plt.plot(ssd)"
   ]
  },
  {
   "cell_type": "code",
   "execution_count": 44,
   "metadata": {},
   "outputs": [
    {
     "data": {
      "text/plain": [
       "KMeans(algorithm='auto', copy_x=True, init='k-means++', max_iter=50,\n",
       "    n_clusters=3, n_init=10, n_jobs=None, precompute_distances='auto',\n",
       "    random_state=50, tol=0.0001, verbose=0)"
      ]
     },
     "execution_count": 44,
     "metadata": {},
     "output_type": "execute_result"
    }
   ],
   "source": [
    "#Here also we're seeing a distinct bend at around 3 clusters. Hence it seems a good K to choose.\n",
    "#Let's perform K means using K=3\n",
    "model_clus2 = KMeans(n_clusters = 3, max_iter=50,random_state = 50)\n",
    "model_clus2.fit(dat3)"
   ]
  },
  {
   "cell_type": "code",
   "execution_count": 45,
   "metadata": {},
   "outputs": [
    {
     "data": {
      "text/html": [
       "<div>\n",
       "<style scoped>\n",
       "    .dataframe tbody tr th:only-of-type {\n",
       "        vertical-align: middle;\n",
       "    }\n",
       "\n",
       "    .dataframe tbody tr th {\n",
       "        vertical-align: top;\n",
       "    }\n",
       "\n",
       "    .dataframe thead th {\n",
       "        text-align: right;\n",
       "    }\n",
       "</style>\n",
       "<table border=\"1\" class=\"dataframe\">\n",
       "  <thead>\n",
       "    <tr style=\"text-align: right;\">\n",
       "      <th></th>\n",
       "      <th>PC1</th>\n",
       "      <th>PC2</th>\n",
       "      <th>PC3</th>\n",
       "      <th>PC4</th>\n",
       "      <th>PC5</th>\n",
       "      <th>ClusterID</th>\n",
       "    </tr>\n",
       "  </thead>\n",
       "  <tbody>\n",
       "    <tr>\n",
       "      <th>0</th>\n",
       "      <td>-2.636338</td>\n",
       "      <td>1.472260</td>\n",
       "      <td>-0.548330</td>\n",
       "      <td>0.238302</td>\n",
       "      <td>0.061003</td>\n",
       "      <td>2</td>\n",
       "    </tr>\n",
       "    <tr>\n",
       "      <th>1</th>\n",
       "      <td>-0.023783</td>\n",
       "      <td>-1.435535</td>\n",
       "      <td>-0.015470</td>\n",
       "      <td>-0.428278</td>\n",
       "      <td>-0.154305</td>\n",
       "      <td>1</td>\n",
       "    </tr>\n",
       "    <tr>\n",
       "      <th>2</th>\n",
       "      <td>-0.459228</td>\n",
       "      <td>-0.679705</td>\n",
       "      <td>0.956537</td>\n",
       "      <td>-0.193531</td>\n",
       "      <td>-0.092128</td>\n",
       "      <td>1</td>\n",
       "    </tr>\n",
       "    <tr>\n",
       "      <th>3</th>\n",
       "      <td>-2.723472</td>\n",
       "      <td>2.174966</td>\n",
       "      <td>0.597397</td>\n",
       "      <td>0.417695</td>\n",
       "      <td>0.056694</td>\n",
       "      <td>2</td>\n",
       "    </tr>\n",
       "    <tr>\n",
       "      <th>4</th>\n",
       "      <td>0.649103</td>\n",
       "      <td>-1.026404</td>\n",
       "      <td>-0.258645</td>\n",
       "      <td>-0.276882</td>\n",
       "      <td>0.077087</td>\n",
       "      <td>1</td>\n",
       "    </tr>\n",
       "  </tbody>\n",
       "</table>\n",
       "</div>"
      ],
      "text/plain": [
       "        PC1       PC2       PC3       PC4       PC5  ClusterID\n",
       "0 -2.636338  1.472260 -0.548330  0.238302  0.061003          2\n",
       "1 -0.023783 -1.435535 -0.015470 -0.428278 -0.154305          1\n",
       "2 -0.459228 -0.679705  0.956537 -0.193531 -0.092128          1\n",
       "3 -2.723472  2.174966  0.597397  0.417695  0.056694          2\n",
       "4  0.649103 -1.026404 -0.258645 -0.276882  0.077087          1"
      ]
     },
     "execution_count": 45,
     "metadata": {},
     "output_type": "execute_result"
    }
   ],
   "source": [
    "dat4=pcs_df2\n",
    "dat4.index = pd.RangeIndex(len(dat4.index))\n",
    "dat_km = pd.concat([dat4, pd.Series(model_clus2.labels_)], axis=1)\n",
    "dat_km.columns = ['PC1', 'PC2', 'PC3', 'PC4', 'PC5','ClusterID']\n",
    "dat_km.head()"
   ]
  },
  {
   "cell_type": "code",
   "execution_count": 46,
   "metadata": {},
   "outputs": [
    {
     "data": {
      "text/plain": [
       "1    91\n",
       "2    48\n",
       "0    28\n",
       "Name: ClusterID, dtype: int64"
      ]
     },
     "execution_count": 46,
     "metadata": {},
     "output_type": "execute_result"
    }
   ],
   "source": [
    "#Counting the number of values/data points in each of the clusters\n",
    "dat_km['ClusterID'].value_counts()"
   ]
  },
  {
   "cell_type": "code",
   "execution_count": 47,
   "metadata": {},
   "outputs": [
    {
     "data": {
      "text/plain": [
       "<matplotlib.axes._subplots.AxesSubplot at 0xe590b38>"
      ]
     },
     "execution_count": 47,
     "metadata": {},
     "output_type": "execute_result"
    },
    {
     "data": {
      "image/png": "[encoded data removed]",
      "text/plain": [
       "<Figure size 1080x1440 with 10 Axes>"
      ]
     },
     "metadata": {
      "needs_background": "light"
     },
     "output_type": "display_data"
    }
   ],
   "source": [
    "#Plotting the distribution of PCs with the assigned clusters\n",
    "\n",
    "plt.figure(figsize=(15,20))\n",
    "\n",
    "plt.subplot(5,2,1)\n",
    "sns.scatterplot(x='PC1',y='PC2',hue='ClusterID',legend='full',data=dat_km)\n",
    "plt.subplot(5,2,2)\n",
    "sns.scatterplot(x='PC1',y='PC3',hue='ClusterID',legend='full',data=dat_km)\n",
    "plt.subplot(5,2,3)\n",
    "sns.scatterplot(x='PC1',y='PC4',hue='ClusterID',legend='full',data=dat_km)\n",
    "plt.subplot(5,2,4)\n",
    "sns.scatterplot(x='PC1',y='PC5',hue='ClusterID',legend='full',data=dat_km)\n",
    "plt.subplot(5,2,5)\n",
    "sns.scatterplot(x='PC2',y='PC3',hue='ClusterID',legend='full',data=dat_km)\n",
    "plt.subplot(5,2,6)\n",
    "sns.scatterplot(x='PC2',y='PC4',hue='ClusterID',legend='full',data=dat_km)\n",
    "plt.subplot(5,2,7)\n",
    "sns.scatterplot(x='PC2',y='PC5',hue='ClusterID',legend='full',data=dat_km)\n",
    "plt.subplot(5,2,8)\n",
    "sns.scatterplot(x='PC3',y='PC4',hue='ClusterID',legend='full',data=dat_km)\n",
    "plt.subplot(5,2,9)\n",
    "sns.scatterplot(x='PC3',y='PC5',hue='ClusterID',legend='full',data=dat_km)\n",
    "plt.subplot(5,2,10)\n",
    "sns.scatterplot(x='PC4',y='PC5',hue='ClusterID',legend='full',data=dat_km)\n"
   ]
  },
  {
   "cell_type": "code",
   "execution_count": 48,
   "metadata": {},
   "outputs": [
    {
     "data": {
      "text/html": [
       "<div>\n",
       "<style scoped>\n",
       "    .dataframe tbody tr th:only-of-type {\n",
       "        vertical-align: middle;\n",
       "    }\n",
       "\n",
       "    .dataframe tbody tr th {\n",
       "        vertical-align: top;\n",
       "    }\n",
       "\n",
       "    .dataframe thead th {\n",
       "        text-align: right;\n",
       "    }\n",
       "</style>\n",
       "<table border=\"1\" class=\"dataframe\">\n",
       "  <thead>\n",
       "    <tr style=\"text-align: right;\">\n",
       "      <th></th>\n",
       "      <th>country</th>\n",
       "      <th>child_mort</th>\n",
       "      <th>exports</th>\n",
       "      <th>health</th>\n",
       "      <th>imports</th>\n",
       "      <th>income</th>\n",
       "      <th>inflation</th>\n",
       "      <th>life_expec</th>\n",
       "      <th>total_fer</th>\n",
       "      <th>gdpp</th>\n",
       "      <th>PC1</th>\n",
       "      <th>PC2</th>\n",
       "      <th>PC3</th>\n",
       "      <th>PC4</th>\n",
       "      <th>PC5</th>\n",
       "      <th>ClusterID</th>\n",
       "    </tr>\n",
       "  </thead>\n",
       "  <tbody>\n",
       "    <tr>\n",
       "      <th>0</th>\n",
       "      <td>Afghanistan</td>\n",
       "      <td>90.2</td>\n",
       "      <td>55.30</td>\n",
       "      <td>41.9174</td>\n",
       "      <td>248.297</td>\n",
       "      <td>1610</td>\n",
       "      <td>9.44</td>\n",
       "      <td>56.2</td>\n",
       "      <td>5.82</td>\n",
       "      <td>553</td>\n",
       "      <td>-2.636338</td>\n",
       "      <td>1.472260</td>\n",
       "      <td>-0.548330</td>\n",
       "      <td>0.238302</td>\n",
       "      <td>0.061003</td>\n",
       "      <td>2</td>\n",
       "    </tr>\n",
       "    <tr>\n",
       "      <th>1</th>\n",
       "      <td>Albania</td>\n",
       "      <td>16.6</td>\n",
       "      <td>1145.20</td>\n",
       "      <td>267.8950</td>\n",
       "      <td>1987.740</td>\n",
       "      <td>9930</td>\n",
       "      <td>4.49</td>\n",
       "      <td>76.3</td>\n",
       "      <td>1.65</td>\n",
       "      <td>4090</td>\n",
       "      <td>-0.023783</td>\n",
       "      <td>-1.435535</td>\n",
       "      <td>-0.015470</td>\n",
       "      <td>-0.428278</td>\n",
       "      <td>-0.154305</td>\n",
       "      <td>1</td>\n",
       "    </tr>\n",
       "    <tr>\n",
       "      <th>2</th>\n",
       "      <td>Algeria</td>\n",
       "      <td>27.3</td>\n",
       "      <td>1712.64</td>\n",
       "      <td>185.9820</td>\n",
       "      <td>1400.440</td>\n",
       "      <td>12900</td>\n",
       "      <td>16.10</td>\n",
       "      <td>76.5</td>\n",
       "      <td>2.89</td>\n",
       "      <td>4460</td>\n",
       "      <td>-0.459228</td>\n",
       "      <td>-0.679705</td>\n",
       "      <td>0.956537</td>\n",
       "      <td>-0.193531</td>\n",
       "      <td>-0.092128</td>\n",
       "      <td>1</td>\n",
       "    </tr>\n",
       "    <tr>\n",
       "      <th>3</th>\n",
       "      <td>Angola</td>\n",
       "      <td>119.0</td>\n",
       "      <td>2199.19</td>\n",
       "      <td>100.6050</td>\n",
       "      <td>1514.370</td>\n",
       "      <td>5900</td>\n",
       "      <td>22.40</td>\n",
       "      <td>60.1</td>\n",
       "      <td>6.16</td>\n",
       "      <td>3530</td>\n",
       "      <td>-2.723472</td>\n",
       "      <td>2.174966</td>\n",
       "      <td>0.597397</td>\n",
       "      <td>0.417695</td>\n",
       "      <td>0.056694</td>\n",
       "      <td>2</td>\n",
       "    </tr>\n",
       "    <tr>\n",
       "      <th>4</th>\n",
       "      <td>Antigua and Barbuda</td>\n",
       "      <td>10.3</td>\n",
       "      <td>5551.00</td>\n",
       "      <td>735.6600</td>\n",
       "      <td>7185.800</td>\n",
       "      <td>19100</td>\n",
       "      <td>1.44</td>\n",
       "      <td>76.8</td>\n",
       "      <td>2.13</td>\n",
       "      <td>12200</td>\n",
       "      <td>0.649103</td>\n",
       "      <td>-1.026404</td>\n",
       "      <td>-0.258645</td>\n",
       "      <td>-0.276882</td>\n",
       "      <td>0.077087</td>\n",
       "      <td>1</td>\n",
       "    </tr>\n",
       "  </tbody>\n",
       "</table>\n",
       "</div>"
      ],
      "text/plain": [
       "               country  child_mort  exports    health   imports  income  \\\n",
       "0          Afghanistan        90.2    55.30   41.9174   248.297    1610   \n",
       "1              Albania        16.6  1145.20  267.8950  1987.740    9930   \n",
       "2              Algeria        27.3  1712.64  185.9820  1400.440   12900   \n",
       "3               Angola       119.0  2199.19  100.6050  1514.370    5900   \n",
       "4  Antigua and Barbuda        10.3  5551.00  735.6600  7185.800   19100   \n",
       "\n",
       "   inflation  life_expec  total_fer   gdpp       PC1       PC2       PC3  \\\n",
       "0       9.44        56.2       5.82    553 -2.636338  1.472260 -0.548330   \n",
       "1       4.49        76.3       1.65   4090 -0.023783 -1.435535 -0.015470   \n",
       "2      16.10        76.5       2.89   4460 -0.459228 -0.679705  0.956537   \n",
       "3      22.40        60.1       6.16   3530 -2.723472  2.174966  0.597397   \n",
       "4       1.44        76.8       2.13  12200  0.649103 -1.026404 -0.258645   \n",
       "\n",
       "        PC4       PC5  ClusterID  \n",
       "0  0.238302  0.061003          2  \n",
       "1 -0.428278 -0.154305          1  \n",
       "2 -0.193531 -0.092128          1  \n",
       "3  0.417695  0.056694          2  \n",
       "4 -0.276882  0.077087          1  "
      ]
     },
     "execution_count": 48,
     "metadata": {},
     "output_type": "execute_result"
    }
   ],
   "source": [
    "#Merge the original dataset with the clusters. \n",
    "dat5=pd.merge(dat,dat_km, left_index=True,right_index=True)\n",
    "dat5.head()"
   ]
  },
  {
   "cell_type": "code",
   "execution_count": 49,
   "metadata": {},
   "outputs": [
    {
     "data": {
      "text/html": [
       "<div>\n",
       "<style scoped>\n",
       "    .dataframe tbody tr th:only-of-type {\n",
       "        vertical-align: middle;\n",
       "    }\n",
       "\n",
       "    .dataframe tbody tr th {\n",
       "        vertical-align: top;\n",
       "    }\n",
       "\n",
       "    .dataframe thead th {\n",
       "        text-align: right;\n",
       "    }\n",
       "</style>\n",
       "<table border=\"1\" class=\"dataframe\">\n",
       "  <thead>\n",
       "    <tr style=\"text-align: right;\">\n",
       "      <th></th>\n",
       "      <th>country</th>\n",
       "      <th>child_mort</th>\n",
       "      <th>exports</th>\n",
       "      <th>health</th>\n",
       "      <th>imports</th>\n",
       "      <th>income</th>\n",
       "      <th>inflation</th>\n",
       "      <th>life_expec</th>\n",
       "      <th>total_fer</th>\n",
       "      <th>gdpp</th>\n",
       "      <th>ClusterID</th>\n",
       "    </tr>\n",
       "  </thead>\n",
       "  <tbody>\n",
       "    <tr>\n",
       "      <th>0</th>\n",
       "      <td>Afghanistan</td>\n",
       "      <td>90.2</td>\n",
       "      <td>55.30</td>\n",
       "      <td>41.9174</td>\n",
       "      <td>248.297</td>\n",
       "      <td>1610</td>\n",
       "      <td>9.44</td>\n",
       "      <td>56.2</td>\n",
       "      <td>5.82</td>\n",
       "      <td>553</td>\n",
       "      <td>2</td>\n",
       "    </tr>\n",
       "    <tr>\n",
       "      <th>1</th>\n",
       "      <td>Albania</td>\n",
       "      <td>16.6</td>\n",
       "      <td>1145.20</td>\n",
       "      <td>267.8950</td>\n",
       "      <td>1987.740</td>\n",
       "      <td>9930</td>\n",
       "      <td>4.49</td>\n",
       "      <td>76.3</td>\n",
       "      <td>1.65</td>\n",
       "      <td>4090</td>\n",
       "      <td>1</td>\n",
       "    </tr>\n",
       "    <tr>\n",
       "      <th>2</th>\n",
       "      <td>Algeria</td>\n",
       "      <td>27.3</td>\n",
       "      <td>1712.64</td>\n",
       "      <td>185.9820</td>\n",
       "      <td>1400.440</td>\n",
       "      <td>12900</td>\n",
       "      <td>16.10</td>\n",
       "      <td>76.5</td>\n",
       "      <td>2.89</td>\n",
       "      <td>4460</td>\n",
       "      <td>1</td>\n",
       "    </tr>\n",
       "    <tr>\n",
       "      <th>3</th>\n",
       "      <td>Angola</td>\n",
       "      <td>119.0</td>\n",
       "      <td>2199.19</td>\n",
       "      <td>100.6050</td>\n",
       "      <td>1514.370</td>\n",
       "      <td>5900</td>\n",
       "      <td>22.40</td>\n",
       "      <td>60.1</td>\n",
       "      <td>6.16</td>\n",
       "      <td>3530</td>\n",
       "      <td>2</td>\n",
       "    </tr>\n",
       "    <tr>\n",
       "      <th>4</th>\n",
       "      <td>Antigua and Barbuda</td>\n",
       "      <td>10.3</td>\n",
       "      <td>5551.00</td>\n",
       "      <td>735.6600</td>\n",
       "      <td>7185.800</td>\n",
       "      <td>19100</td>\n",
       "      <td>1.44</td>\n",
       "      <td>76.8</td>\n",
       "      <td>2.13</td>\n",
       "      <td>12200</td>\n",
       "      <td>1</td>\n",
       "    </tr>\n",
       "  </tbody>\n",
       "</table>\n",
       "</div>"
      ],
      "text/plain": [
       "               country  child_mort  exports    health   imports  income  \\\n",
       "0          Afghanistan        90.2    55.30   41.9174   248.297    1610   \n",
       "1              Albania        16.6  1145.20  267.8950  1987.740    9930   \n",
       "2              Algeria        27.3  1712.64  185.9820  1400.440   12900   \n",
       "3               Angola       119.0  2199.19  100.6050  1514.370    5900   \n",
       "4  Antigua and Barbuda        10.3  5551.00  735.6600  7185.800   19100   \n",
       "\n",
       "   inflation  life_expec  total_fer   gdpp  ClusterID  \n",
       "0       9.44        56.2       5.82    553          2  \n",
       "1       4.49        76.3       1.65   4090          1  \n",
       "2      16.10        76.5       2.89   4460          1  \n",
       "3      22.40        60.1       6.16   3530          2  \n",
       "4       1.44        76.8       2.13  12200          1  "
      ]
     },
     "execution_count": 49,
     "metadata": {},
     "output_type": "execute_result"
    }
   ],
   "source": [
    "#Dropping the PCs.\n",
    "dat6=dat5.drop(['PC1','PC2','PC3','PC4','PC5'],axis=1)\n",
    "dat6.head()"
   ]
  },
  {
   "cell_type": "markdown",
   "metadata": {},
   "source": [
    "## Hierarchical Clustering"
   ]
  },
  {
   "cell_type": "code",
   "execution_count": 50,
   "metadata": {},
   "outputs": [
    {
     "data": {
      "image/png": "[encoded data removed]",
      "text/plain": [
       "<Figure size 432x288 with 1 Axes>"
      ]
     },
     "metadata": {
      "needs_background": "light"
     },
     "output_type": "display_data"
    }
   ],
   "source": [
    "dat7=dat3\n",
    "# single linkage\n",
    "mergings = linkage(dat7, method=\"single\", metric='euclidean')\n",
    "dendrogram(mergings)\n",
    "plt.show()"
   ]
  },
  {
   "cell_type": "code",
   "execution_count": 51,
   "metadata": {},
   "outputs": [
    {
     "data": {
      "image/png": "[encoded data removed]",
      "text/plain": [
       "<Figure size 432x288 with 1 Axes>"
      ]
     },
     "metadata": {
      "needs_background": "light"
     },
     "output_type": "display_data"
    }
   ],
   "source": [
    "# complete linkage\n",
    "mergings = linkage(dat7, method=\"complete\", metric='euclidean')\n",
    "dendrogram(mergings)\n",
    "plt.show()"
   ]
  },
  {
   "cell_type": "code",
   "execution_count": 52,
   "metadata": {},
   "outputs": [
    {
     "data": {
      "text/plain": [
       "array([0, 0, 0, 0, 0, 0, 0, 1, 1, 0, 0, 0, 0, 0, 0, 1, 0, 0, 0, 0, 0, 0,\n",
       "       0, 0, 0, 0, 0, 0, 0, 1, 0, 0, 0, 0, 0, 0, 0, 0, 0, 0, 0, 0, 0, 0,\n",
       "       1, 0, 0, 0, 0, 0, 0, 0, 0, 1, 1, 0, 0, 0, 1, 0, 0, 0, 0, 0, 0, 0,\n",
       "       0, 0, 1, 0, 0, 0, 0, 1, 0, 1, 0, 1, 0, 0, 0, 0, 0, 0, 0, 0, 0, 0,\n",
       "       0, 0, 0, 2, 0, 0, 0, 0, 0, 0, 0, 0, 0, 0, 0, 0, 0, 0, 0, 0, 0, 0,\n",
       "       1, 1, 0, 3, 1, 0, 0, 0, 0, 0, 0, 0, 0, 1, 0, 0, 0, 0, 0, 0, 0, 0,\n",
       "       0, 1, 0, 0, 0, 0, 0, 0, 0, 0, 0, 0, 1, 1, 0, 0, 0, 0, 0, 0, 0, 0,\n",
       "       0, 0, 0, 0, 1, 1, 0, 0, 0, 0, 0, 0, 0])"
      ]
     },
     "execution_count": 52,
     "metadata": {},
     "output_type": "execute_result"
    }
   ],
   "source": [
    "# Taking K=4 clusters for clustering\n",
    "cluster_labels = cut_tree(mergings, n_clusters=4).reshape(-1, )\n",
    "cluster_labels"
   ]
  },
  {
   "cell_type": "code",
   "execution_count": 53,
   "metadata": {},
   "outputs": [
    {
     "data": {
      "text/html": [
       "<div>\n",
       "<style scoped>\n",
       "    .dataframe tbody tr th:only-of-type {\n",
       "        vertical-align: middle;\n",
       "    }\n",
       "\n",
       "    .dataframe tbody tr th {\n",
       "        vertical-align: top;\n",
       "    }\n",
       "\n",
       "    .dataframe thead th {\n",
       "        text-align: right;\n",
       "    }\n",
       "</style>\n",
       "<table border=\"1\" class=\"dataframe\">\n",
       "  <thead>\n",
       "    <tr style=\"text-align: right;\">\n",
       "      <th></th>\n",
       "      <th>PC1</th>\n",
       "      <th>PC2</th>\n",
       "      <th>PC3</th>\n",
       "      <th>PC4</th>\n",
       "      <th>PC5</th>\n",
       "      <th>ClusterID</th>\n",
       "    </tr>\n",
       "  </thead>\n",
       "  <tbody>\n",
       "    <tr>\n",
       "      <th>0</th>\n",
       "      <td>-2.636338</td>\n",
       "      <td>1.472260</td>\n",
       "      <td>-0.548330</td>\n",
       "      <td>0.238302</td>\n",
       "      <td>0.061003</td>\n",
       "      <td>0</td>\n",
       "    </tr>\n",
       "    <tr>\n",
       "      <th>1</th>\n",
       "      <td>-0.023783</td>\n",
       "      <td>-1.435535</td>\n",
       "      <td>-0.015470</td>\n",
       "      <td>-0.428278</td>\n",
       "      <td>-0.154305</td>\n",
       "      <td>0</td>\n",
       "    </tr>\n",
       "    <tr>\n",
       "      <th>2</th>\n",
       "      <td>-0.459228</td>\n",
       "      <td>-0.679705</td>\n",
       "      <td>0.956537</td>\n",
       "      <td>-0.193531</td>\n",
       "      <td>-0.092128</td>\n",
       "      <td>0</td>\n",
       "    </tr>\n",
       "    <tr>\n",
       "      <th>3</th>\n",
       "      <td>-2.723472</td>\n",
       "      <td>2.174966</td>\n",
       "      <td>0.597397</td>\n",
       "      <td>0.417695</td>\n",
       "      <td>0.056694</td>\n",
       "      <td>0</td>\n",
       "    </tr>\n",
       "    <tr>\n",
       "      <th>4</th>\n",
       "      <td>0.649103</td>\n",
       "      <td>-1.026404</td>\n",
       "      <td>-0.258645</td>\n",
       "      <td>-0.276882</td>\n",
       "      <td>0.077087</td>\n",
       "      <td>0</td>\n",
       "    </tr>\n",
       "  </tbody>\n",
       "</table>\n",
       "</div>"
      ],
      "text/plain": [
       "        PC1       PC2       PC3       PC4       PC5  ClusterID\n",
       "0 -2.636338  1.472260 -0.548330  0.238302  0.061003          0\n",
       "1 -0.023783 -1.435535 -0.015470 -0.428278 -0.154305          0\n",
       "2 -0.459228 -0.679705  0.956537 -0.193531 -0.092128          0\n",
       "3 -2.723472  2.174966  0.597397  0.417695  0.056694          0\n",
       "4  0.649103 -1.026404 -0.258645 -0.276882  0.077087          0"
      ]
     },
     "execution_count": 53,
     "metadata": {},
     "output_type": "execute_result"
    }
   ],
   "source": [
    "# assign cluster labels\n",
    "dat7['ClusterID'] = cluster_labels\n",
    "dat7.head()"
   ]
  },
  {
   "cell_type": "code",
   "execution_count": 54,
   "metadata": {},
   "outputs": [
    {
     "data": {
      "text/html": [
       "<div>\n",
       "<style scoped>\n",
       "    .dataframe tbody tr th:only-of-type {\n",
       "        vertical-align: middle;\n",
       "    }\n",
       "\n",
       "    .dataframe tbody tr th {\n",
       "        vertical-align: top;\n",
       "    }\n",
       "\n",
       "    .dataframe thead th {\n",
       "        text-align: right;\n",
       "    }\n",
       "</style>\n",
       "<table border=\"1\" class=\"dataframe\">\n",
       "  <thead>\n",
       "    <tr style=\"text-align: right;\">\n",
       "      <th></th>\n",
       "      <th>country</th>\n",
       "      <th>child_mort</th>\n",
       "      <th>exports</th>\n",
       "      <th>health</th>\n",
       "      <th>imports</th>\n",
       "      <th>income</th>\n",
       "      <th>inflation</th>\n",
       "      <th>life_expec</th>\n",
       "      <th>total_fer</th>\n",
       "      <th>gdpp</th>\n",
       "      <th>PC1</th>\n",
       "      <th>PC2</th>\n",
       "      <th>PC3</th>\n",
       "      <th>PC4</th>\n",
       "      <th>PC5</th>\n",
       "      <th>ClusterID</th>\n",
       "    </tr>\n",
       "  </thead>\n",
       "  <tbody>\n",
       "    <tr>\n",
       "      <th>0</th>\n",
       "      <td>Afghanistan</td>\n",
       "      <td>90.2</td>\n",
       "      <td>55.30</td>\n",
       "      <td>41.9174</td>\n",
       "      <td>248.297</td>\n",
       "      <td>1610</td>\n",
       "      <td>9.44</td>\n",
       "      <td>56.2</td>\n",
       "      <td>5.82</td>\n",
       "      <td>553</td>\n",
       "      <td>-2.636338</td>\n",
       "      <td>1.472260</td>\n",
       "      <td>-0.548330</td>\n",
       "      <td>0.238302</td>\n",
       "      <td>0.061003</td>\n",
       "      <td>0</td>\n",
       "    </tr>\n",
       "    <tr>\n",
       "      <th>1</th>\n",
       "      <td>Albania</td>\n",
       "      <td>16.6</td>\n",
       "      <td>1145.20</td>\n",
       "      <td>267.8950</td>\n",
       "      <td>1987.740</td>\n",
       "      <td>9930</td>\n",
       "      <td>4.49</td>\n",
       "      <td>76.3</td>\n",
       "      <td>1.65</td>\n",
       "      <td>4090</td>\n",
       "      <td>-0.023783</td>\n",
       "      <td>-1.435535</td>\n",
       "      <td>-0.015470</td>\n",
       "      <td>-0.428278</td>\n",
       "      <td>-0.154305</td>\n",
       "      <td>0</td>\n",
       "    </tr>\n",
       "    <tr>\n",
       "      <th>2</th>\n",
       "      <td>Algeria</td>\n",
       "      <td>27.3</td>\n",
       "      <td>1712.64</td>\n",
       "      <td>185.9820</td>\n",
       "      <td>1400.440</td>\n",
       "      <td>12900</td>\n",
       "      <td>16.10</td>\n",
       "      <td>76.5</td>\n",
       "      <td>2.89</td>\n",
       "      <td>4460</td>\n",
       "      <td>-0.459228</td>\n",
       "      <td>-0.679705</td>\n",
       "      <td>0.956537</td>\n",
       "      <td>-0.193531</td>\n",
       "      <td>-0.092128</td>\n",
       "      <td>0</td>\n",
       "    </tr>\n",
       "    <tr>\n",
       "      <th>3</th>\n",
       "      <td>Angola</td>\n",
       "      <td>119.0</td>\n",
       "      <td>2199.19</td>\n",
       "      <td>100.6050</td>\n",
       "      <td>1514.370</td>\n",
       "      <td>5900</td>\n",
       "      <td>22.40</td>\n",
       "      <td>60.1</td>\n",
       "      <td>6.16</td>\n",
       "      <td>3530</td>\n",
       "      <td>-2.723472</td>\n",
       "      <td>2.174966</td>\n",
       "      <td>0.597397</td>\n",
       "      <td>0.417695</td>\n",
       "      <td>0.056694</td>\n",
       "      <td>0</td>\n",
       "    </tr>\n",
       "    <tr>\n",
       "      <th>4</th>\n",
       "      <td>Antigua and Barbuda</td>\n",
       "      <td>10.3</td>\n",
       "      <td>5551.00</td>\n",
       "      <td>735.6600</td>\n",
       "      <td>7185.800</td>\n",
       "      <td>19100</td>\n",
       "      <td>1.44</td>\n",
       "      <td>76.8</td>\n",
       "      <td>2.13</td>\n",
       "      <td>12200</td>\n",
       "      <td>0.649103</td>\n",
       "      <td>-1.026404</td>\n",
       "      <td>-0.258645</td>\n",
       "      <td>-0.276882</td>\n",
       "      <td>0.077087</td>\n",
       "      <td>0</td>\n",
       "    </tr>\n",
       "  </tbody>\n",
       "</table>\n",
       "</div>"
      ],
      "text/plain": [
       "               country  child_mort  exports    health   imports  income  \\\n",
       "0          Afghanistan        90.2    55.30   41.9174   248.297    1610   \n",
       "1              Albania        16.6  1145.20  267.8950  1987.740    9930   \n",
       "2              Algeria        27.3  1712.64  185.9820  1400.440   12900   \n",
       "3               Angola       119.0  2199.19  100.6050  1514.370    5900   \n",
       "4  Antigua and Barbuda        10.3  5551.00  735.6600  7185.800   19100   \n",
       "\n",
       "   inflation  life_expec  total_fer   gdpp       PC1       PC2       PC3  \\\n",
       "0       9.44        56.2       5.82    553 -2.636338  1.472260 -0.548330   \n",
       "1       4.49        76.3       1.65   4090 -0.023783 -1.435535 -0.015470   \n",
       "2      16.10        76.5       2.89   4460 -0.459228 -0.679705  0.956537   \n",
       "3      22.40        60.1       6.16   3530 -2.723472  2.174966  0.597397   \n",
       "4       1.44        76.8       2.13  12200  0.649103 -1.026404 -0.258645   \n",
       "\n",
       "        PC4       PC5  ClusterID  \n",
       "0  0.238302  0.061003          0  \n",
       "1 -0.428278 -0.154305          0  \n",
       "2 -0.193531 -0.092128          0  \n",
       "3  0.417695  0.056694          0  \n",
       "4 -0.276882  0.077087          0  "
      ]
     },
     "execution_count": 54,
     "metadata": {},
     "output_type": "execute_result"
    }
   ],
   "source": [
    "#Merging the PCs with that of original dataset\n",
    "dat8=pd.merge(dat,dat7, left_index=True,right_index=True)\n",
    "dat8.head()"
   ]
  },
  {
   "cell_type": "code",
   "execution_count": 55,
   "metadata": {},
   "outputs": [
    {
     "data": {
      "text/html": [
       "<div>\n",
       "<style scoped>\n",
       "    .dataframe tbody tr th:only-of-type {\n",
       "        vertical-align: middle;\n",
       "    }\n",
       "\n",
       "    .dataframe tbody tr th {\n",
       "        vertical-align: top;\n",
       "    }\n",
       "\n",
       "    .dataframe thead th {\n",
       "        text-align: right;\n",
       "    }\n",
       "</style>\n",
       "<table border=\"1\" class=\"dataframe\">\n",
       "  <thead>\n",
       "    <tr style=\"text-align: right;\">\n",
       "      <th></th>\n",
       "      <th>country</th>\n",
       "      <th>child_mort</th>\n",
       "      <th>exports</th>\n",
       "      <th>health</th>\n",
       "      <th>imports</th>\n",
       "      <th>income</th>\n",
       "      <th>inflation</th>\n",
       "      <th>life_expec</th>\n",
       "      <th>total_fer</th>\n",
       "      <th>gdpp</th>\n",
       "      <th>ClusterID</th>\n",
       "    </tr>\n",
       "  </thead>\n",
       "  <tbody>\n",
       "    <tr>\n",
       "      <th>0</th>\n",
       "      <td>Afghanistan</td>\n",
       "      <td>90.2</td>\n",
       "      <td>55.30</td>\n",
       "      <td>41.9174</td>\n",
       "      <td>248.297</td>\n",
       "      <td>1610</td>\n",
       "      <td>9.44</td>\n",
       "      <td>56.2</td>\n",
       "      <td>5.82</td>\n",
       "      <td>553</td>\n",
       "      <td>0</td>\n",
       "    </tr>\n",
       "    <tr>\n",
       "      <th>1</th>\n",
       "      <td>Albania</td>\n",
       "      <td>16.6</td>\n",
       "      <td>1145.20</td>\n",
       "      <td>267.8950</td>\n",
       "      <td>1987.740</td>\n",
       "      <td>9930</td>\n",
       "      <td>4.49</td>\n",
       "      <td>76.3</td>\n",
       "      <td>1.65</td>\n",
       "      <td>4090</td>\n",
       "      <td>0</td>\n",
       "    </tr>\n",
       "    <tr>\n",
       "      <th>2</th>\n",
       "      <td>Algeria</td>\n",
       "      <td>27.3</td>\n",
       "      <td>1712.64</td>\n",
       "      <td>185.9820</td>\n",
       "      <td>1400.440</td>\n",
       "      <td>12900</td>\n",
       "      <td>16.10</td>\n",
       "      <td>76.5</td>\n",
       "      <td>2.89</td>\n",
       "      <td>4460</td>\n",
       "      <td>0</td>\n",
       "    </tr>\n",
       "    <tr>\n",
       "      <th>3</th>\n",
       "      <td>Angola</td>\n",
       "      <td>119.0</td>\n",
       "      <td>2199.19</td>\n",
       "      <td>100.6050</td>\n",
       "      <td>1514.370</td>\n",
       "      <td>5900</td>\n",
       "      <td>22.40</td>\n",
       "      <td>60.1</td>\n",
       "      <td>6.16</td>\n",
       "      <td>3530</td>\n",
       "      <td>0</td>\n",
       "    </tr>\n",
       "    <tr>\n",
       "      <th>4</th>\n",
       "      <td>Antigua and Barbuda</td>\n",
       "      <td>10.3</td>\n",
       "      <td>5551.00</td>\n",
       "      <td>735.6600</td>\n",
       "      <td>7185.800</td>\n",
       "      <td>19100</td>\n",
       "      <td>1.44</td>\n",
       "      <td>76.8</td>\n",
       "      <td>2.13</td>\n",
       "      <td>12200</td>\n",
       "      <td>0</td>\n",
       "    </tr>\n",
       "  </tbody>\n",
       "</table>\n",
       "</div>"
      ],
      "text/plain": [
       "               country  child_mort  exports    health   imports  income  \\\n",
       "0          Afghanistan        90.2    55.30   41.9174   248.297    1610   \n",
       "1              Albania        16.6  1145.20  267.8950  1987.740    9930   \n",
       "2              Algeria        27.3  1712.64  185.9820  1400.440   12900   \n",
       "3               Angola       119.0  2199.19  100.6050  1514.370    5900   \n",
       "4  Antigua and Barbuda        10.3  5551.00  735.6600  7185.800   19100   \n",
       "\n",
       "   inflation  life_expec  total_fer   gdpp  ClusterID  \n",
       "0       9.44        56.2       5.82    553          0  \n",
       "1       4.49        76.3       1.65   4090          0  \n",
       "2      16.10        76.5       2.89   4460          0  \n",
       "3      22.40        60.1       6.16   3530          0  \n",
       "4       1.44        76.8       2.13  12200          0  "
      ]
     },
     "execution_count": 55,
     "metadata": {},
     "output_type": "execute_result"
    }
   ],
   "source": [
    "#Dropping the PCs\n",
    "dat9=dat8.drop(['PC1','PC2','PC3','PC4','PC5'],axis=1)\n",
    "dat9.head()"
   ]
  },
  {
   "cell_type": "code",
   "execution_count": 56,
   "metadata": {},
   "outputs": [
    {
     "data": {
      "text/plain": [
       "0    144\n",
       "1     21\n",
       "3      1\n",
       "2      1\n",
       "Name: ClusterID, dtype: int64"
      ]
     },
     "execution_count": 56,
     "metadata": {},
     "output_type": "execute_result"
    }
   ],
   "source": [
    "#Counting number of data points in each of the clusters\n",
    "dat9['ClusterID'].value_counts()"
   ]
  },
  {
   "cell_type": "code",
   "execution_count": 57,
   "metadata": {},
   "outputs": [
    {
     "data": {
      "text/plain": [
       "<matplotlib.axes._subplots.AxesSubplot at 0x1140ba90>"
      ]
     },
     "execution_count": 57,
     "metadata": {},
     "output_type": "execute_result"
    },
    {
     "data": {
      "image/png": "[encoded data removed]",
      "text/plain": [
       "<Figure size 1080x1440 with 10 Axes>"
      ]
     },
     "metadata": {
      "needs_background": "light"
     },
     "output_type": "display_data"
    }
   ],
   "source": [
    "#Analyzing the distribution of data between PCs with the clusterids using scatterplot \n",
    "plt.figure(figsize=(15,20))\n",
    "\n",
    "plt.subplot(5,2,1)\n",
    "sns.scatterplot(x='PC1',y='PC2',hue='ClusterID',legend='full',data=dat7)\n",
    "plt.subplot(5,2,2)\n",
    "sns.scatterplot(x='PC1',y='PC3',hue='ClusterID',legend='full',data=dat7)\n",
    "plt.subplot(5,2,3)\n",
    "sns.scatterplot(x='PC1',y='PC4',hue='ClusterID',legend='full',data=dat7)\n",
    "plt.subplot(5,2,4)\n",
    "sns.scatterplot(x='PC1',y='PC5',hue='ClusterID',legend='full',data=dat7)\n",
    "plt.subplot(5,2,5)\n",
    "sns.scatterplot(x='PC2',y='PC3',hue='ClusterID',legend='full',data=dat7)\n",
    "plt.subplot(5,2,6)\n",
    "sns.scatterplot(x='PC2',y='PC4',hue='ClusterID',legend='full',data=dat7)\n",
    "plt.subplot(5,2,7)\n",
    "sns.scatterplot(x='PC2',y='PC5',hue='ClusterID',legend='full',data=dat7)\n",
    "plt.subplot(5,2,8)\n",
    "sns.scatterplot(x='PC3',y='PC4',hue='ClusterID',legend='full',data=dat7)\n",
    "plt.subplot(5,2,9)\n",
    "sns.scatterplot(x='PC3',y='PC5',hue='ClusterID',legend='full',data=dat7)\n",
    "plt.subplot(5,2,10)\n",
    "sns.scatterplot(x='PC4',y='PC5',hue='ClusterID',legend='full',data=dat7)"
   ]
  },
  {
   "cell_type": "markdown",
   "metadata": {},
   "source": [
    "After performing clustering using the PCs and allocating the clusterIDs back to each of the datapoints, K-means algorithm seems to give better clustering than Hierarchical Clustering. So performing analysis on K-means clustering."
   ]
  },
  {
   "cell_type": "markdown",
   "metadata": {},
   "source": [
    "## Cluster Analysis"
   ]
  },
  {
   "cell_type": "code",
   "execution_count": 58,
   "metadata": {},
   "outputs": [],
   "source": [
    "#Calculating mean of the desired variables.\n",
    "\n",
    "clu_child = \tpd.DataFrame(dat6.groupby([\"ClusterID\"]).child_mort.mean())\n",
    "clu_in = \tpd.DataFrame(dat6.groupby([\"ClusterID\"]).income.mean())\n",
    "clu_gdp = \tpd.DataFrame(dat6.groupby([\"ClusterID\"]).gdpp.mean())"
   ]
  },
  {
   "cell_type": "code",
   "execution_count": 59,
   "metadata": {},
   "outputs": [],
   "source": [
    "#concatenate the values\n",
    "df = pd.concat([pd.Series([0,1,2]),clu_child,clu_in,clu_gdp], axis=1)"
   ]
  },
  {
   "cell_type": "code",
   "execution_count": 60,
   "metadata": {},
   "outputs": [
    {
     "data": {
      "text/html": [
       "<div>\n",
       "<style scoped>\n",
       "    .dataframe tbody tr th:only-of-type {\n",
       "        vertical-align: middle;\n",
       "    }\n",
       "\n",
       "    .dataframe tbody tr th {\n",
       "        vertical-align: top;\n",
       "    }\n",
       "\n",
       "    .dataframe thead th {\n",
       "        text-align: right;\n",
       "    }\n",
       "</style>\n",
       "<table border=\"1\" class=\"dataframe\">\n",
       "  <thead>\n",
       "    <tr style=\"text-align: right;\">\n",
       "      <th></th>\n",
       "      <th>ClusterID</th>\n",
       "      <th>child_mort</th>\n",
       "      <th>income</th>\n",
       "      <th>gdpp</th>\n",
       "    </tr>\n",
       "  </thead>\n",
       "  <tbody>\n",
       "    <tr>\n",
       "      <th>0</th>\n",
       "      <td>0</td>\n",
       "      <td>5.046429</td>\n",
       "      <td>50178.571429</td>\n",
       "      <td>48114.285714</td>\n",
       "    </tr>\n",
       "    <tr>\n",
       "      <th>1</th>\n",
       "      <td>1</td>\n",
       "      <td>20.357143</td>\n",
       "      <td>13968.021978</td>\n",
       "      <td>7979.912088</td>\n",
       "    </tr>\n",
       "    <tr>\n",
       "      <th>2</th>\n",
       "      <td>2</td>\n",
       "      <td>91.610417</td>\n",
       "      <td>3897.354167</td>\n",
       "      <td>1909.208333</td>\n",
       "    </tr>\n",
       "  </tbody>\n",
       "</table>\n",
       "</div>"
      ],
      "text/plain": [
       "   ClusterID  child_mort        income          gdpp\n",
       "0          0    5.046429  50178.571429  48114.285714\n",
       "1          1   20.357143  13968.021978   7979.912088\n",
       "2          2   91.610417   3897.354167   1909.208333"
      ]
     },
     "execution_count": 60,
     "metadata": {},
     "output_type": "execute_result"
    }
   ],
   "source": [
    "#Assigning the column names\n",
    "df.columns = [\"ClusterID\",\"child_mort\",\"income\",\"gdpp\"]\n",
    "df"
   ]
  },
  {
   "cell_type": "code",
   "execution_count": 61,
   "metadata": {},
   "outputs": [],
   "source": [
    "#Using the concept of binning\n",
    "fin=dat[dat['child_mort']>=91.610]\n",
    "fin=fin[fin['income']<= 3897.354]\n",
    "fin=fin[fin['gdpp']<= 1909.208]"
   ]
  },
  {
   "cell_type": "code",
   "execution_count": 62,
   "metadata": {},
   "outputs": [
    {
     "data": {
      "text/plain": [
       "(17, 10)"
      ]
     },
     "execution_count": 62,
     "metadata": {},
     "output_type": "execute_result"
    }
   ],
   "source": [
    "#Checking the shape of the dataset\n",
    "fin.shape"
   ]
  },
  {
   "cell_type": "code",
   "execution_count": 63,
   "metadata": {},
   "outputs": [
    {
     "data": {
      "text/html": [
       "<div>\n",
       "<style scoped>\n",
       "    .dataframe tbody tr th:only-of-type {\n",
       "        vertical-align: middle;\n",
       "    }\n",
       "\n",
       "    .dataframe tbody tr th {\n",
       "        vertical-align: top;\n",
       "    }\n",
       "\n",
       "    .dataframe thead th {\n",
       "        text-align: right;\n",
       "    }\n",
       "</style>\n",
       "<table border=\"1\" class=\"dataframe\">\n",
       "  <thead>\n",
       "    <tr style=\"text-align: right;\">\n",
       "      <th></th>\n",
       "      <th>country</th>\n",
       "      <th>child_mort</th>\n",
       "      <th>exports</th>\n",
       "      <th>health</th>\n",
       "      <th>imports</th>\n",
       "      <th>income</th>\n",
       "      <th>inflation</th>\n",
       "      <th>life_expec</th>\n",
       "      <th>total_fer</th>\n",
       "      <th>gdpp</th>\n",
       "    </tr>\n",
       "  </thead>\n",
       "  <tbody>\n",
       "    <tr>\n",
       "      <th>66</th>\n",
       "      <td>Haiti</td>\n",
       "      <td>208.0</td>\n",
       "      <td>101.2860</td>\n",
       "      <td>45.7442</td>\n",
       "      <td>428.314</td>\n",
       "      <td>1500</td>\n",
       "      <td>5.450</td>\n",
       "      <td>32.1</td>\n",
       "      <td>3.33</td>\n",
       "      <td>662</td>\n",
       "    </tr>\n",
       "    <tr>\n",
       "      <th>132</th>\n",
       "      <td>Sierra Leone</td>\n",
       "      <td>160.0</td>\n",
       "      <td>67.0320</td>\n",
       "      <td>52.2690</td>\n",
       "      <td>137.655</td>\n",
       "      <td>1220</td>\n",
       "      <td>17.200</td>\n",
       "      <td>55.0</td>\n",
       "      <td>5.20</td>\n",
       "      <td>399</td>\n",
       "    </tr>\n",
       "    <tr>\n",
       "      <th>32</th>\n",
       "      <td>Chad</td>\n",
       "      <td>150.0</td>\n",
       "      <td>330.0960</td>\n",
       "      <td>40.6341</td>\n",
       "      <td>390.195</td>\n",
       "      <td>1930</td>\n",
       "      <td>6.390</td>\n",
       "      <td>56.5</td>\n",
       "      <td>6.59</td>\n",
       "      <td>897</td>\n",
       "    </tr>\n",
       "    <tr>\n",
       "      <th>31</th>\n",
       "      <td>Central African Republic</td>\n",
       "      <td>149.0</td>\n",
       "      <td>52.6280</td>\n",
       "      <td>17.7508</td>\n",
       "      <td>118.190</td>\n",
       "      <td>888</td>\n",
       "      <td>2.010</td>\n",
       "      <td>47.5</td>\n",
       "      <td>5.21</td>\n",
       "      <td>446</td>\n",
       "    </tr>\n",
       "    <tr>\n",
       "      <th>97</th>\n",
       "      <td>Mali</td>\n",
       "      <td>137.0</td>\n",
       "      <td>161.4240</td>\n",
       "      <td>35.2584</td>\n",
       "      <td>248.508</td>\n",
       "      <td>1870</td>\n",
       "      <td>4.370</td>\n",
       "      <td>59.5</td>\n",
       "      <td>6.55</td>\n",
       "      <td>708</td>\n",
       "    </tr>\n",
       "    <tr>\n",
       "      <th>112</th>\n",
       "      <td>Niger</td>\n",
       "      <td>123.0</td>\n",
       "      <td>77.2560</td>\n",
       "      <td>17.9568</td>\n",
       "      <td>170.868</td>\n",
       "      <td>814</td>\n",
       "      <td>2.550</td>\n",
       "      <td>58.8</td>\n",
       "      <td>7.49</td>\n",
       "      <td>348</td>\n",
       "    </tr>\n",
       "    <tr>\n",
       "      <th>25</th>\n",
       "      <td>Burkina Faso</td>\n",
       "      <td>116.0</td>\n",
       "      <td>110.4000</td>\n",
       "      <td>38.7550</td>\n",
       "      <td>170.200</td>\n",
       "      <td>1430</td>\n",
       "      <td>6.810</td>\n",
       "      <td>57.9</td>\n",
       "      <td>5.87</td>\n",
       "      <td>575</td>\n",
       "    </tr>\n",
       "    <tr>\n",
       "      <th>37</th>\n",
       "      <td>Congo, Dem. Rep.</td>\n",
       "      <td>116.0</td>\n",
       "      <td>137.2740</td>\n",
       "      <td>26.4194</td>\n",
       "      <td>165.664</td>\n",
       "      <td>609</td>\n",
       "      <td>20.800</td>\n",
       "      <td>57.5</td>\n",
       "      <td>6.54</td>\n",
       "      <td>334</td>\n",
       "    </tr>\n",
       "    <tr>\n",
       "      <th>64</th>\n",
       "      <td>Guinea-Bissau</td>\n",
       "      <td>114.0</td>\n",
       "      <td>81.5030</td>\n",
       "      <td>46.4950</td>\n",
       "      <td>192.544</td>\n",
       "      <td>1390</td>\n",
       "      <td>2.970</td>\n",
       "      <td>55.6</td>\n",
       "      <td>5.05</td>\n",
       "      <td>547</td>\n",
       "    </tr>\n",
       "    <tr>\n",
       "      <th>40</th>\n",
       "      <td>Cote d'Ivoire</td>\n",
       "      <td>111.0</td>\n",
       "      <td>617.3200</td>\n",
       "      <td>64.6600</td>\n",
       "      <td>528.260</td>\n",
       "      <td>2690</td>\n",
       "      <td>5.390</td>\n",
       "      <td>56.3</td>\n",
       "      <td>5.27</td>\n",
       "      <td>1220</td>\n",
       "    </tr>\n",
       "    <tr>\n",
       "      <th>17</th>\n",
       "      <td>Benin</td>\n",
       "      <td>111.0</td>\n",
       "      <td>180.4040</td>\n",
       "      <td>31.0780</td>\n",
       "      <td>281.976</td>\n",
       "      <td>1820</td>\n",
       "      <td>0.885</td>\n",
       "      <td>61.8</td>\n",
       "      <td>5.36</td>\n",
       "      <td>758</td>\n",
       "    </tr>\n",
       "    <tr>\n",
       "      <th>63</th>\n",
       "      <td>Guinea</td>\n",
       "      <td>109.0</td>\n",
       "      <td>196.3440</td>\n",
       "      <td>31.9464</td>\n",
       "      <td>279.936</td>\n",
       "      <td>1190</td>\n",
       "      <td>16.100</td>\n",
       "      <td>58.0</td>\n",
       "      <td>5.34</td>\n",
       "      <td>648</td>\n",
       "    </tr>\n",
       "    <tr>\n",
       "      <th>28</th>\n",
       "      <td>Cameroon</td>\n",
       "      <td>108.0</td>\n",
       "      <td>290.8200</td>\n",
       "      <td>67.2030</td>\n",
       "      <td>353.700</td>\n",
       "      <td>2660</td>\n",
       "      <td>1.910</td>\n",
       "      <td>57.3</td>\n",
       "      <td>5.11</td>\n",
       "      <td>1310</td>\n",
       "    </tr>\n",
       "    <tr>\n",
       "      <th>106</th>\n",
       "      <td>Mozambique</td>\n",
       "      <td>101.0</td>\n",
       "      <td>131.9850</td>\n",
       "      <td>21.8299</td>\n",
       "      <td>193.578</td>\n",
       "      <td>918</td>\n",
       "      <td>7.640</td>\n",
       "      <td>54.5</td>\n",
       "      <td>5.56</td>\n",
       "      <td>419</td>\n",
       "    </tr>\n",
       "    <tr>\n",
       "      <th>87</th>\n",
       "      <td>Lesotho</td>\n",
       "      <td>99.7</td>\n",
       "      <td>460.9800</td>\n",
       "      <td>129.8700</td>\n",
       "      <td>1181.700</td>\n",
       "      <td>2380</td>\n",
       "      <td>4.150</td>\n",
       "      <td>46.5</td>\n",
       "      <td>3.30</td>\n",
       "      <td>1170</td>\n",
       "    </tr>\n",
       "    <tr>\n",
       "      <th>99</th>\n",
       "      <td>Mauritania</td>\n",
       "      <td>97.4</td>\n",
       "      <td>608.4000</td>\n",
       "      <td>52.9200</td>\n",
       "      <td>734.400</td>\n",
       "      <td>3320</td>\n",
       "      <td>18.900</td>\n",
       "      <td>68.2</td>\n",
       "      <td>4.98</td>\n",
       "      <td>1200</td>\n",
       "    </tr>\n",
       "    <tr>\n",
       "      <th>26</th>\n",
       "      <td>Burundi</td>\n",
       "      <td>93.6</td>\n",
       "      <td>20.6052</td>\n",
       "      <td>26.7960</td>\n",
       "      <td>90.552</td>\n",
       "      <td>764</td>\n",
       "      <td>12.300</td>\n",
       "      <td>57.7</td>\n",
       "      <td>6.26</td>\n",
       "      <td>231</td>\n",
       "    </tr>\n",
       "  </tbody>\n",
       "</table>\n",
       "</div>"
      ],
      "text/plain": [
       "                      country  child_mort   exports    health   imports  \\\n",
       "66                      Haiti       208.0  101.2860   45.7442   428.314   \n",
       "132              Sierra Leone       160.0   67.0320   52.2690   137.655   \n",
       "32                       Chad       150.0  330.0960   40.6341   390.195   \n",
       "31   Central African Republic       149.0   52.6280   17.7508   118.190   \n",
       "97                       Mali       137.0  161.4240   35.2584   248.508   \n",
       "112                     Niger       123.0   77.2560   17.9568   170.868   \n",
       "25               Burkina Faso       116.0  110.4000   38.7550   170.200   \n",
       "37           Congo, Dem. Rep.       116.0  137.2740   26.4194   165.664   \n",
       "64              Guinea-Bissau       114.0   81.5030   46.4950   192.544   \n",
       "40              Cote d'Ivoire       111.0  617.3200   64.6600   528.260   \n",
       "17                      Benin       111.0  180.4040   31.0780   281.976   \n",
       "63                     Guinea       109.0  196.3440   31.9464   279.936   \n",
       "28                   Cameroon       108.0  290.8200   67.2030   353.700   \n",
       "106                Mozambique       101.0  131.9850   21.8299   193.578   \n",
       "87                    Lesotho        99.7  460.9800  129.8700  1181.700   \n",
       "99                 Mauritania        97.4  608.4000   52.9200   734.400   \n",
       "26                    Burundi        93.6   20.6052   26.7960    90.552   \n",
       "\n",
       "     income  inflation  life_expec  total_fer  gdpp  \n",
       "66     1500      5.450        32.1       3.33   662  \n",
       "132    1220     17.200        55.0       5.20   399  \n",
       "32     1930      6.390        56.5       6.59   897  \n",
       "31      888      2.010        47.5       5.21   446  \n",
       "97     1870      4.370        59.5       6.55   708  \n",
       "112     814      2.550        58.8       7.49   348  \n",
       "25     1430      6.810        57.9       5.87   575  \n",
       "37      609     20.800        57.5       6.54   334  \n",
       "64     1390      2.970        55.6       5.05   547  \n",
       "40     2690      5.390        56.3       5.27  1220  \n",
       "17     1820      0.885        61.8       5.36   758  \n",
       "63     1190     16.100        58.0       5.34   648  \n",
       "28     2660      1.910        57.3       5.11  1310  \n",
       "106     918      7.640        54.5       5.56   419  \n",
       "87     2380      4.150        46.5       3.30  1170  \n",
       "99     3320     18.900        68.2       4.98  1200  \n",
       "26      764     12.300        57.7       6.26   231  "
      ]
     },
     "execution_count": 63,
     "metadata": {},
     "output_type": "execute_result"
    }
   ],
   "source": [
    "#Descending sort of the values of Child_mort \n",
    "fin.sort_values(['child_mort', 'income', 'gdpp'], ascending=[False, False, False], inplace=True)\n",
    "fin"
   ]
  },
  {
   "cell_type": "markdown",
   "metadata": {},
   "source": [
    "## Results\n",
    "1. The above table consist of countries that are worst in child mortality, gdpp and income segment.\n",
    "<br>\n",
    "2. There are 17 countries that need to be focussed and are in direst need of aid for development."
   ]
  },
  {
   "cell_type": "code",
   "execution_count": null,
   "metadata": {},
   "outputs": [],
   "source": []
  }
 ],
 "metadata": {
  "kernelspec": {
   "display_name": "Python 3",
   "language": "python",
   "name": "python3"
  },
  "language_info": {
   "codemirror_mode": {
    "name": "ipython",
    "version": 3
   },
   "file_extension": ".py",
   "mimetype": "text/x-python",
   "name": "python",
   "nbconvert_exporter": "python",
   "pygments_lexer": "ipython3",
   "version": "3.7.3"
  }
 },
 "nbformat": 4,
 "nbformat_minor": 2
}
